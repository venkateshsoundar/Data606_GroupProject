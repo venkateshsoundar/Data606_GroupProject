{
 "cells": [
  {
   "cell_type": "markdown",
   "metadata": {},
   "source": [
    "# **The Influence of Social Media Usage on Consumer Purchasing Decisions** #"
   ]
  },
  {
   "cell_type": "markdown",
   "metadata": {},
   "source": [
    "#### **Group Members** ####\n",
    "1. Ayush Senthil Nelli\n",
    "2. Hritvik Gaind\n",
    "3. Rehan Chanegaon\n",
    "4. Satyam Kapoor\n",
    "5. Venkateshwaran Balu Soundararajan"
   ]
  },
  {
   "cell_type": "code",
   "execution_count": 13,
   "metadata": {},
   "outputs": [],
   "source": [
    "#Importing Required Libraries\n",
    "import pandas as pd\n",
    "import plotly.express as px\n",
    "import scipy.stats as stats\n",
    "import numpy as np\n",
    "from sklearn.model_selection import train_test_split, cross_val_score\n",
    "from sklearn.linear_model import LinearRegression\n",
    "from sklearn.tree import DecisionTreeRegressor\n",
    "from sklearn.preprocessing import LabelEncoder\n",
    "from sklearn.metrics import mean_squared_error, r2_score\n",
    "import statsmodels.api as sm\n",
    "import statsmodels.formula.api as smf\n",
    "from scipy.stats import chi2\n",
    "import plotly.express as px\n",
    "import plotly.graph_objects as go\n",
    "import seaborn as sns\n",
    "import matplotlib.pyplot as plt\n",
    "# Disable all warnings\n",
    "import warnings\n",
    "warnings.filterwarnings(\"ignore\")\n",
    "pd.options.mode.chained_assignment = None"
   ]
  },
  {
   "cell_type": "markdown",
   "metadata": {},
   "source": [
    "## **Introduction** ##\n",
    "\n",
    "In today's digital era, social media plays a pivotal role in shaping consumer behavior and influencing purchasing decisions. With platforms like Instagram, Facebook, and TikTok at the forefront, brands are increasingly leveraging digital marketing strategies to capture attention and build trust. This report investigates how social media influences consumer choices, explores the impact of digital content and influencer recommendations, and highlights data-driven approaches that help businesses optimize their marketing strategies. By analyzing survey data collected from active social media users, the study aims to provide insights that can support more targeted and effective marketing efforts.\n"
   ]
  },
  {
   "cell_type": "markdown",
   "metadata": {},
   "source": [
    "## **Background and Significance** ##\n",
    "\n",
    "Social media has revolutionized the way consumers interact with brands and make purchasing decisions. The ubiquitous presence of platforms such as Instagram, Facebook, and TikTok has not only altered consumer expectations but also redefined marketing practices. Brands now rely on digital marketing, influencer promotions, and user-generated content to attract buyers. Moreover, consumers increasingly trust online reviews and recommendations, which serve as powerful social proof before making purchases.\n",
    "\n",
    "**Key aspects of this transformation include:**\n",
    "\n",
    "**Understanding Consumer Behavior:**\n",
    "Gaining insights into how consumers interact with digital content allows brands to better align their products and messaging with audience preferences.\n",
    "\n",
    "**Impact of Influencers & Reviews:**\n",
    "The rise of influencer marketing and the proliferation of online reviews have made it possible to measure the tangible effects of social proof on purchasing decisions.\n",
    "\n",
    "**Data-Driven Marketing Strategies:**\n",
    "Leveraging consumer data enables businesses to optimize their advertisements and engagement strategies, ensuring that marketing efforts are both efficient and effective.\n",
    "\n",
    "**Identifying Trends & Preferences:**\n",
    "Continuous analysis of consumer behavior helps identify emerging trends and preferences, which is crucial for maintaining competitive advantage in a rapidly evolving market.\n",
    "\n",
    "This project underscores the importance of data-driven insights in understanding and adapting to the shifting dynamics of consumer behavior in the digital age.\n"
   ]
  },
  {
   "cell_type": "markdown",
   "metadata": {},
   "source": [
    "## **About the Dataset** ##\n",
    "The analysis is grounded in a custom-designed survey aimed at capturing the nuances of social media’s influence on consumer behavior. Below are the key details of the dataset:\n",
    "\n",
    "**Primary Data Source:**\n",
    "A custom-designed survey administered via Google Forms.\n",
    "link - https://forms.gle/mhwQoduno3mTWTQ26\n",
    "\n",
    "\n",
    "**Target Audience:**\n",
    "The survey focused on consumers from the University of Calgary, covering a diverse age range of individuals who actively use social media for making shopping decisions.\n",
    "\n",
    "**Response Count:**\n",
    "The dataset comprises responses from 125 participants.\n",
    "\n",
    "**Survey Structure:**\n",
    "The survey was structured into several sections:\n",
    "\n",
    "**Demographics:**\n",
    "Collecting data on age, gender, etc.\n",
    "\n",
    "**Social Media Usage:**\n",
    "Assessing frequency of use, preferred platforms, and daily time spent.\n",
    "\n",
    "**Advertisement Exposure:**\n",
    "Evaluating the impact of social media ads, influencer recommendations, and brand collaborations.\n",
    "\n",
    "**Purchasing Behavior:**\n",
    "Documenting the types of products purchased through social media, trust in online reviews, and key decision-making factors.\n",
    "\n",
    "**Influencing Factors:**\n",
    "Identifying the type of content, limited time offers, and other factors influencing consumer decisions.\n",
    "\n",
    "**Data Cleaning & Stratified Sampling:**\n",
    "To ensure a balanced analysis, the dataset underwent several cleaning steps:\n",
    "\n",
    "**Renaming Columns:** \n",
    "Survey questions were renamed to more appropriate column names.\n",
    "\n",
    "**Stratified Sampling:**\n",
    "- Data was segmented into four age groups: Below 18, 18–36, 37–54, and Above 55.\n",
    "- The minimum count among these groups was identified to allow proportional allocation.\n",
    "- Random resampling with replacement was performed within each group to ensure equal sample sizes.\n",
    "- Finally, the resampled data was combined and shuffled to maintain randomness.\n",
    "\n",
    "The careful design and cleaning of the dataset ensure that the analysis accurately reflects consumer behavior across different age groups, providing a reliable foundation for data-driven marketing insights."
   ]
  },
  {
   "cell_type": "code",
   "execution_count": 14,
   "metadata": {},
   "outputs": [
    {
     "data": {
      "text/plain": [
       "Index(['age_group', 'gender', 'social_media_hours_per_day',\n",
       "       'most_frequent_platform', 'platform_usage_frequency',\n",
       "       'ad_frequency_on_social_media', 'influencer_promotions_frequency',\n",
       "       'purchased_after_seeing_on_social_media',\n",
       "       'unplanned_purchases_after_social_media', 'regret_impulsive_purchases',\n",
       "       'content_type_influences_purchasing', 'limited_time_offer_purchases',\n",
       "       'product_comparison_before_purchasing', 'comparison_factor',\n",
       "       'purchased_to_fit_in_with_trends', 'peer_influence_on_purchasing',\n",
       "       'social_media_increases_spending', 'payment_method',\n",
       "       'exceed_budget_due_to_social_media', 'loan_for_social_media_purchases',\n",
       "       'trustworthiness_of_social_media_ads', 'influencer_vs_brand_ads_trust'],\n",
       "      dtype='object')"
      ]
     },
     "execution_count": 14,
     "metadata": {},
     "output_type": "execute_result"
    }
   ],
   "source": [
    "#df = pd.read_excel('FinalSurveyDataa.xlsx')\n",
    "df_original=pd.read_csv('606Project_Original.csv')\n",
    "#df.head(5)\n",
    "#df_original=df.copy()\n",
    "df = pd.read_csv(\"Data_606_Project.csv\")\n",
    "df.drop('Unnamed: 0', axis=1, inplace=True)\n",
    "df.columns"
   ]
  },
  {
   "cell_type": "markdown",
   "metadata": {},
   "source": [
    "## **Data Cleaning** ##"
   ]
  },
  {
   "cell_type": "code",
   "execution_count": 15,
   "metadata": {},
   "outputs": [],
   "source": [
    "df.rename(columns={\n",
    "\"What is your age group?\": \"age_group\",\n",
    "\"What is your gender?\": \"gender\",\n",
    "\"On average, how many hours do you spend on social media daily?\": \"social_media_hours_per_day\",\n",
    "\"Which social media platform do you use most frequently?\": \"most_frequent_platform\",\n",
    "\"How often do you use this platform?\": \"platform_usage_frequency\",\n",
    "\"How often do you see product advertisements on social media?\": \"ad_frequency_on_social_media\",\n",
    "\"How often do you encounter promotions by influencers on social media?\": \"influencer_promotions_frequency\",\n",
    "\"How many times in the past month have you purchased a product after seeing it on social media?\": \"purchased_after_seeing_on_social_media\",\n",
    "\"How often do you make unplanned purchases after seeing a product on social media?\": \"unplanned_purchases_after_social_media\",\n",
    "\"Do you regret purchases made impulsively due to social media influence?\": \"regret_impulsive_purchases\",\n",
    "\"Which type of content influences your purchasing decisions the most?\": \"content_type_influences_purchasing\",\n",
    "\"How often do you purchase a product based on a limited time offer on social media?\": \"limited_time_offer_purchases\",\n",
    "\"Do you usually compare products on other websites/apps before buying something seen on social media?\": \"product_comparison_before_purchasing\",\n",
    "\"If you compare products, what factor influences your choice the most? (Select Not Applicable if previous question choices as No)\": \"comparison_factor\",\n",
    "\"Have you ever purchased a product to fit in with trends seen on social media?\": \"purchased_to_fit_in_with_trends\",\n",
    "\"How often do peers or social trends influence your purchasing decisions on social media?\": \"peer_influence_on_purchasing\",\n",
    "\"Do you feel that social media increases your spending on products?\": \"social_media_increases_spending\",\n",
    "\"How do you typically pay for purchases influenced by social media?\": \"payment_method\",\n",
    "\"How often do you exceed your budget because of products seen on social media?\": \"exceed_budget_due_to_social_media\",\n",
    "\"Have you ever taken a loan or gone into debt to purchase a product advertised on social media?\": \"loan_for_social_media_purchases\",\n",
    "\"How trustworthy do you find social media advertisements?\": \"trustworthiness_of_social_media_ads\",\n",
    "\"Are you more likely to trust ads promoted by influencers or official brand accounts?\": \"influencer_vs_brand_ads_trust\"\n",
    "}, inplace=True)\n"
   ]
  },
  {
   "cell_type": "code",
   "execution_count": 16,
   "metadata": {},
   "outputs": [
    {
     "data": {
      "text/plain": [
       "age_group                                 0\n",
       "gender                                    0\n",
       "social_media_hours_per_day                0\n",
       "most_frequent_platform                    0\n",
       "platform_usage_frequency                  0\n",
       "ad_frequency_on_social_media              0\n",
       "influencer_promotions_frequency           0\n",
       "purchased_after_seeing_on_social_media    0\n",
       "unplanned_purchases_after_social_media    0\n",
       "regret_impulsive_purchases                0\n",
       "content_type_influences_purchasing        0\n",
       "limited_time_offer_purchases              0\n",
       "product_comparison_before_purchasing      0\n",
       "comparison_factor                         0\n",
       "purchased_to_fit_in_with_trends           0\n",
       "peer_influence_on_purchasing              0\n",
       "social_media_increases_spending           0\n",
       "payment_method                            0\n",
       "exceed_budget_due_to_social_media         0\n",
       "loan_for_social_media_purchases           0\n",
       "trustworthiness_of_social_media_ads       0\n",
       "influencer_vs_brand_ads_trust             0\n",
       "dtype: int64"
      ]
     },
     "execution_count": 16,
     "metadata": {},
     "output_type": "execute_result"
    }
   ],
   "source": [
    "df.isna().sum()"
   ]
  },
  {
   "cell_type": "code",
   "execution_count": 17,
   "metadata": {},
   "outputs": [
    {
     "data": {
      "text/plain": [
       "age_group\n",
       "Above 55    23\n",
       "37 - 54     23\n",
       "18 - 36     23\n",
       "Below 18    23\n",
       "Name: count, dtype: int64"
      ]
     },
     "execution_count": 17,
     "metadata": {},
     "output_type": "execute_result"
    }
   ],
   "source": [
    "df['age_group'].value_counts()"
   ]
  },
  {
   "cell_type": "code",
   "execution_count": 18,
   "metadata": {},
   "outputs": [
    {
     "data": {
      "text/plain": [
       "gender\n",
       "Female    51\n",
       "Male      41\n",
       "Name: count, dtype: int64"
      ]
     },
     "execution_count": 18,
     "metadata": {},
     "output_type": "execute_result"
    }
   ],
   "source": [
    "df['gender'].value_counts()"
   ]
  },
  {
   "cell_type": "code",
   "execution_count": 19,
   "metadata": {},
   "outputs": [],
   "source": [
    "df['most_frequent_platform'] = df['most_frequent_platform'].str.lower()\n",
    "# To standardize the names like \"YouTube\" or \"Youtube\""
   ]
  },
  {
   "cell_type": "markdown",
   "metadata": {},
   "source": [
    "## **Stratified Sampling** ##"
   ]
  },
  {
   "cell_type": "code",
   "execution_count": 20,
   "metadata": {},
   "outputs": [
    {
     "name": "stdout",
     "output_type": "stream",
     "text": [
      "Original Age Group Distribution:\n",
      " age_group\n",
      "Above 55    23\n",
      "37 - 54     23\n",
      "18 - 36     23\n",
      "Below 18    23\n",
      "Name: count, dtype: int64\n",
      "\n",
      "Bootstrapped Gender Distribution (Equal counts):\n",
      " age_group\n",
      "37 - 54     23\n",
      "Above 55    23\n",
      "Below 18    23\n",
      "18 - 36     23\n",
      "Name: count, dtype: int64\n"
     ]
    },
    {
     "data": {
      "text/html": [
       "<div>\n",
       "<style scoped>\n",
       "    .dataframe tbody tr th:only-of-type {\n",
       "        vertical-align: middle;\n",
       "    }\n",
       "\n",
       "    .dataframe tbody tr th {\n",
       "        vertical-align: top;\n",
       "    }\n",
       "\n",
       "    .dataframe thead th {\n",
       "        text-align: right;\n",
       "    }\n",
       "</style>\n",
       "<table border=\"1\" class=\"dataframe\">\n",
       "  <thead>\n",
       "    <tr style=\"text-align: right;\">\n",
       "      <th></th>\n",
       "      <th>age_group</th>\n",
       "      <th>gender</th>\n",
       "      <th>social_media_hours_per_day</th>\n",
       "      <th>most_frequent_platform</th>\n",
       "      <th>platform_usage_frequency</th>\n",
       "      <th>ad_frequency_on_social_media</th>\n",
       "      <th>influencer_promotions_frequency</th>\n",
       "      <th>purchased_after_seeing_on_social_media</th>\n",
       "      <th>unplanned_purchases_after_social_media</th>\n",
       "      <th>regret_impulsive_purchases</th>\n",
       "      <th>...</th>\n",
       "      <th>product_comparison_before_purchasing</th>\n",
       "      <th>comparison_factor</th>\n",
       "      <th>purchased_to_fit_in_with_trends</th>\n",
       "      <th>peer_influence_on_purchasing</th>\n",
       "      <th>social_media_increases_spending</th>\n",
       "      <th>payment_method</th>\n",
       "      <th>exceed_budget_due_to_social_media</th>\n",
       "      <th>loan_for_social_media_purchases</th>\n",
       "      <th>trustworthiness_of_social_media_ads</th>\n",
       "      <th>influencer_vs_brand_ads_trust</th>\n",
       "    </tr>\n",
       "  </thead>\n",
       "  <tbody>\n",
       "    <tr>\n",
       "      <th>0</th>\n",
       "      <td>37 - 54</td>\n",
       "      <td>Female</td>\n",
       "      <td>Less than 1 hour</td>\n",
       "      <td>facebook</td>\n",
       "      <td>Daily</td>\n",
       "      <td>Occasionally</td>\n",
       "      <td>Frequently</td>\n",
       "      <td>0</td>\n",
       "      <td>Rarely</td>\n",
       "      <td>No</td>\n",
       "      <td>...</td>\n",
       "      <td>Yes</td>\n",
       "      <td>Everything - price brand durability</td>\n",
       "      <td>No</td>\n",
       "      <td>Never</td>\n",
       "      <td>2</td>\n",
       "      <td>Credit Card, Savings</td>\n",
       "      <td>Never</td>\n",
       "      <td>No</td>\n",
       "      <td>3</td>\n",
       "      <td>Neither</td>\n",
       "    </tr>\n",
       "    <tr>\n",
       "      <th>1</th>\n",
       "      <td>Above 55</td>\n",
       "      <td>Male</td>\n",
       "      <td>4 - 7 hours</td>\n",
       "      <td>twitter</td>\n",
       "      <td>Multiple times daily</td>\n",
       "      <td>Almost every time</td>\n",
       "      <td>Almost every time</td>\n",
       "      <td>6-10</td>\n",
       "      <td>Frequently</td>\n",
       "      <td>Yes</td>\n",
       "      <td>...</td>\n",
       "      <td>Yes</td>\n",
       "      <td>Discounts</td>\n",
       "      <td>Yes</td>\n",
       "      <td>Frequently</td>\n",
       "      <td>5</td>\n",
       "      <td>Personal Income</td>\n",
       "      <td>Frequently</td>\n",
       "      <td>Yes</td>\n",
       "      <td>4</td>\n",
       "      <td>Influencers</td>\n",
       "    </tr>\n",
       "    <tr>\n",
       "      <th>2</th>\n",
       "      <td>37 - 54</td>\n",
       "      <td>Female</td>\n",
       "      <td>4 - 7 hours</td>\n",
       "      <td>facebook</td>\n",
       "      <td>Daily</td>\n",
       "      <td>Frequently</td>\n",
       "      <td>Occasionally</td>\n",
       "      <td>0</td>\n",
       "      <td>Rarely</td>\n",
       "      <td>Yes</td>\n",
       "      <td>...</td>\n",
       "      <td>Yes</td>\n",
       "      <td>Brand Reputation</td>\n",
       "      <td>Yes</td>\n",
       "      <td>Occasionally</td>\n",
       "      <td>3</td>\n",
       "      <td>Savings</td>\n",
       "      <td>Occasionally</td>\n",
       "      <td>No</td>\n",
       "      <td>2</td>\n",
       "      <td>Brand accounts</td>\n",
       "    </tr>\n",
       "    <tr>\n",
       "      <th>3</th>\n",
       "      <td>Above 55</td>\n",
       "      <td>Female</td>\n",
       "      <td>Less than 1 hour</td>\n",
       "      <td>facebook</td>\n",
       "      <td>Daily</td>\n",
       "      <td>Occasionally</td>\n",
       "      <td>Rarely</td>\n",
       "      <td>0</td>\n",
       "      <td>Never</td>\n",
       "      <td>No</td>\n",
       "      <td>...</td>\n",
       "      <td>No</td>\n",
       "      <td>Not Applicable</td>\n",
       "      <td>No</td>\n",
       "      <td>Never</td>\n",
       "      <td>1</td>\n",
       "      <td>Personal Income</td>\n",
       "      <td>Never</td>\n",
       "      <td>No</td>\n",
       "      <td>1</td>\n",
       "      <td>Neither</td>\n",
       "    </tr>\n",
       "    <tr>\n",
       "      <th>4</th>\n",
       "      <td>Above 55</td>\n",
       "      <td>Male</td>\n",
       "      <td>Less than 1 hour</td>\n",
       "      <td>linkedin</td>\n",
       "      <td>Rarely</td>\n",
       "      <td>Rarely</td>\n",
       "      <td>Rarely</td>\n",
       "      <td>0</td>\n",
       "      <td>Never</td>\n",
       "      <td>No</td>\n",
       "      <td>...</td>\n",
       "      <td>No</td>\n",
       "      <td>Brand reputation</td>\n",
       "      <td>No</td>\n",
       "      <td>Never</td>\n",
       "      <td>1</td>\n",
       "      <td>Savings</td>\n",
       "      <td>Never</td>\n",
       "      <td>No</td>\n",
       "      <td>1</td>\n",
       "      <td>Neither</td>\n",
       "    </tr>\n",
       "  </tbody>\n",
       "</table>\n",
       "<p>5 rows × 22 columns</p>\n",
       "</div>"
      ],
      "text/plain": [
       "  age_group  gender social_media_hours_per_day most_frequent_platform  \\\n",
       "0   37 - 54  Female           Less than 1 hour               facebook   \n",
       "1  Above 55    Male                4 - 7 hours                twitter   \n",
       "2   37 - 54  Female                4 - 7 hours               facebook   \n",
       "3  Above 55  Female           Less than 1 hour               facebook   \n",
       "4  Above 55    Male           Less than 1 hour               linkedin   \n",
       "\n",
       "  platform_usage_frequency ad_frequency_on_social_media  \\\n",
       "0                    Daily                 Occasionally   \n",
       "1     Multiple times daily            Almost every time   \n",
       "2                    Daily                   Frequently   \n",
       "3                    Daily                 Occasionally   \n",
       "4                   Rarely                       Rarely   \n",
       "\n",
       "  influencer_promotions_frequency purchased_after_seeing_on_social_media  \\\n",
       "0                      Frequently                                      0   \n",
       "1               Almost every time                                   6-10   \n",
       "2                    Occasionally                                      0   \n",
       "3                          Rarely                                      0   \n",
       "4                          Rarely                                      0   \n",
       "\n",
       "  unplanned_purchases_after_social_media regret_impulsive_purchases  ...  \\\n",
       "0                                 Rarely                         No  ...   \n",
       "1                             Frequently                        Yes  ...   \n",
       "2                                 Rarely                        Yes  ...   \n",
       "3                                  Never                         No  ...   \n",
       "4                                  Never                         No  ...   \n",
       "\n",
       "  product_comparison_before_purchasing                     comparison_factor  \\\n",
       "0                                  Yes  Everything - price brand durability    \n",
       "1                                  Yes                             Discounts   \n",
       "2                                  Yes                      Brand Reputation   \n",
       "3                                   No                        Not Applicable   \n",
       "4                                   No                      Brand reputation   \n",
       "\n",
       "  purchased_to_fit_in_with_trends peer_influence_on_purchasing  \\\n",
       "0                              No                        Never   \n",
       "1                             Yes                   Frequently   \n",
       "2                             Yes                 Occasionally   \n",
       "3                              No                        Never   \n",
       "4                              No                        Never   \n",
       "\n",
       "  social_media_increases_spending        payment_method  \\\n",
       "0                               2  Credit Card, Savings   \n",
       "1                               5       Personal Income   \n",
       "2                               3               Savings   \n",
       "3                               1       Personal Income   \n",
       "4                               1               Savings   \n",
       "\n",
       "   exceed_budget_due_to_social_media loan_for_social_media_purchases  \\\n",
       "0                              Never                              No   \n",
       "1                         Frequently                             Yes   \n",
       "2                       Occasionally                              No   \n",
       "3                              Never                              No   \n",
       "4                              Never                              No   \n",
       "\n",
       "  trustworthiness_of_social_media_ads influencer_vs_brand_ads_trust  \n",
       "0                                   3                       Neither  \n",
       "1                                   4                   Influencers  \n",
       "2                                   2                Brand accounts  \n",
       "3                                   1                       Neither  \n",
       "4                                   1                       Neither  \n",
       "\n",
       "[5 rows x 22 columns]"
      ]
     },
     "execution_count": 20,
     "metadata": {},
     "output_type": "execute_result"
    }
   ],
   "source": [
    "# Count the number of samples in each gender group\n",
    "age_group_counts = df['age_group'].value_counts()\n",
    "print(\"Original Age Group Distribution:\\n\", age_group_counts)\n",
    "\n",
    "# Separate by gender (stratify by 'gender')\n",
    "df_18_36 = df[df['age_group'] == '18 - 36']\n",
    "df_above_55 = df[df['age_group'] == 'Above 55']\n",
    "df_below_18 = df[df['age_group'] == 'Below 18']\n",
    "df_37_54 = df[df['age_group'] == '37 - 54']\n",
    "\n",
    "\n",
    "# Perform bootstrapping within each gender group to balance sample sizes\n",
    "# Get the minimum count between Male and Female for proportional allocation\n",
    "min_count = min(age_group_counts)\n",
    "\n",
    "# Apply bootstrapping for Male and Female to make sample sizes equal\n",
    "bootstrap_18_36 = df_18_36.sample(n=min_count, replace=True)\n",
    "bootstrap_above_55 = df_above_55.sample(n=min_count, replace=True)\n",
    "bootstrap_below_18 = df_below_18.sample(n=min_count, replace=True)\n",
    "bootstrap_37_54 = df_37_54.sample(n=min_count, replace=True)\n",
    "\n",
    "# Combine the bootstrapped samples\n",
    "bootstrapped_df = pd.concat([bootstrap_18_36, bootstrap_above_55, bootstrap_below_18, bootstrap_37_54])\n",
    "\n",
    "# Shuffle to randomize the combined data\n",
    "bootstrapped_df = bootstrapped_df.sample(frac=1).reset_index(drop=True)\n",
    "\n",
    "# New gender distribution after bootstrapping\n",
    "new_gender_counts = bootstrapped_df['age_group'].value_counts()\n",
    "print(\"\\nBootstrapped Gender Distribution (Equal counts):\\n\", new_gender_counts)\n",
    "\n",
    "# Display the bootstrapped DataFrame\n",
    "#df = bootstrapped_df.drop(columns = ['Email address','Timestamp'])\n",
    "bootstrapped_df.head(5)"
   ]
  },
  {
   "cell_type": "markdown",
   "metadata": {},
   "source": [
    "### **Discussion** ###\n",
    "\n",
    "In this process, we first count the number of samples in each age group to understand the original distribution. Then, we separate the dataset into four age categories: \"18 - 36,\" \"Above 55,\" \"Below 18,\" and \"37 - 54.\"\n",
    "\n",
    "Next, we determine the minimum sample size among these groups (min_count) to ensure proportional allocation. To balance the dataset, we perform bootstrapping by randomly sampling (with replacement) from each age group so that all groups have the same number of samples as the smallest group. After bootstrapping, we combine all the sampled data into a new dataset and shuffle it to maintain randomness. Finally, we check the new distribution to confirm that the sample sizes are now equal across age groups, ensuring a more balanced dataset for further analysis."
   ]
  },
  {
   "cell_type": "markdown",
   "metadata": {},
   "source": [
    "## **Exploratory Data Analysis** ##"
   ]
  },
  {
   "cell_type": "markdown",
   "metadata": {},
   "source": [
    "#### **1. Purchase Frequency and Most used platform​**"
   ]
  },
  {
   "cell_type": "code",
   "execution_count": 21,
   "metadata": {},
   "outputs": [
    {
     "data": {
      "application/vnd.plotly.v1+json": {
       "config": {
        "plotlyServerURL": "https://plot.ly"
       },
       "data": [
        {
         "alignmentgroup": "True",
         "hovertemplate": "gender=Female<br>Purchase Frequency=%{x}<br>Number of Respondents=%{text}<extra></extra>",
         "legendgroup": "Female",
         "marker": {
          "color": "rgb(95, 70, 144)",
          "line": {
           "width": 0
          },
          "pattern": {
           "shape": ""
          }
         },
         "name": "Female",
         "offsetgroup": "Female",
         "orientation": "v",
         "showlegend": true,
         "text": [
          28,
          16,
          7
         ],
         "textposition": "auto",
         "type": "bar",
         "x": [
          "0",
          "1-2",
          "3-5"
         ],
         "xaxis": "x",
         "y": [
          28,
          16,
          7
         ],
         "yaxis": "y"
        },
        {
         "alignmentgroup": "True",
         "hovertemplate": "gender=Male<br>Purchase Frequency=%{x}<br>Number of Respondents=%{text}<extra></extra>",
         "legendgroup": "Male",
         "marker": {
          "color": "rgb(29, 105, 150)",
          "line": {
           "width": 0
          },
          "pattern": {
           "shape": ""
          }
         },
         "name": "Male",
         "offsetgroup": "Male",
         "orientation": "v",
         "showlegend": true,
         "text": [
          13,
          22,
          2,
          4
         ],
         "textposition": "auto",
         "type": "bar",
         "x": [
          "0",
          "1-2",
          "3-5",
          "6-10"
         ],
         "xaxis": "x",
         "y": [
          13,
          22,
          2,
          4
         ],
         "yaxis": "y"
        }
       ],
       "layout": {
        "barmode": "group",
        "legend": {
         "title": {
          "text": "gender"
         },
         "tracegroupgap": 0
        },
        "template": {
         "data": {
          "bar": [
           {
            "error_x": {
             "color": "#2a3f5f"
            },
            "error_y": {
             "color": "#2a3f5f"
            },
            "marker": {
             "line": {
              "color": "#E5ECF6",
              "width": 0.5
             },
             "pattern": {
              "fillmode": "overlay",
              "size": 10,
              "solidity": 0.2
             }
            },
            "type": "bar"
           }
          ],
          "barpolar": [
           {
            "marker": {
             "line": {
              "color": "#E5ECF6",
              "width": 0.5
             },
             "pattern": {
              "fillmode": "overlay",
              "size": 10,
              "solidity": 0.2
             }
            },
            "type": "barpolar"
           }
          ],
          "carpet": [
           {
            "aaxis": {
             "endlinecolor": "#2a3f5f",
             "gridcolor": "white",
             "linecolor": "white",
             "minorgridcolor": "white",
             "startlinecolor": "#2a3f5f"
            },
            "baxis": {
             "endlinecolor": "#2a3f5f",
             "gridcolor": "white",
             "linecolor": "white",
             "minorgridcolor": "white",
             "startlinecolor": "#2a3f5f"
            },
            "type": "carpet"
           }
          ],
          "choropleth": [
           {
            "colorbar": {
             "outlinewidth": 0,
             "ticks": ""
            },
            "type": "choropleth"
           }
          ],
          "contour": [
           {
            "colorbar": {
             "outlinewidth": 0,
             "ticks": ""
            },
            "colorscale": [
             [
              0,
              "#0d0887"
             ],
             [
              0.1111111111111111,
              "#46039f"
             ],
             [
              0.2222222222222222,
              "#7201a8"
             ],
             [
              0.3333333333333333,
              "#9c179e"
             ],
             [
              0.4444444444444444,
              "#bd3786"
             ],
             [
              0.5555555555555556,
              "#d8576b"
             ],
             [
              0.6666666666666666,
              "#ed7953"
             ],
             [
              0.7777777777777778,
              "#fb9f3a"
             ],
             [
              0.8888888888888888,
              "#fdca26"
             ],
             [
              1,
              "#f0f921"
             ]
            ],
            "type": "contour"
           }
          ],
          "contourcarpet": [
           {
            "colorbar": {
             "outlinewidth": 0,
             "ticks": ""
            },
            "type": "contourcarpet"
           }
          ],
          "heatmap": [
           {
            "colorbar": {
             "outlinewidth": 0,
             "ticks": ""
            },
            "colorscale": [
             [
              0,
              "#0d0887"
             ],
             [
              0.1111111111111111,
              "#46039f"
             ],
             [
              0.2222222222222222,
              "#7201a8"
             ],
             [
              0.3333333333333333,
              "#9c179e"
             ],
             [
              0.4444444444444444,
              "#bd3786"
             ],
             [
              0.5555555555555556,
              "#d8576b"
             ],
             [
              0.6666666666666666,
              "#ed7953"
             ],
             [
              0.7777777777777778,
              "#fb9f3a"
             ],
             [
              0.8888888888888888,
              "#fdca26"
             ],
             [
              1,
              "#f0f921"
             ]
            ],
            "type": "heatmap"
           }
          ],
          "heatmapgl": [
           {
            "colorbar": {
             "outlinewidth": 0,
             "ticks": ""
            },
            "colorscale": [
             [
              0,
              "#0d0887"
             ],
             [
              0.1111111111111111,
              "#46039f"
             ],
             [
              0.2222222222222222,
              "#7201a8"
             ],
             [
              0.3333333333333333,
              "#9c179e"
             ],
             [
              0.4444444444444444,
              "#bd3786"
             ],
             [
              0.5555555555555556,
              "#d8576b"
             ],
             [
              0.6666666666666666,
              "#ed7953"
             ],
             [
              0.7777777777777778,
              "#fb9f3a"
             ],
             [
              0.8888888888888888,
              "#fdca26"
             ],
             [
              1,
              "#f0f921"
             ]
            ],
            "type": "heatmapgl"
           }
          ],
          "histogram": [
           {
            "marker": {
             "pattern": {
              "fillmode": "overlay",
              "size": 10,
              "solidity": 0.2
             }
            },
            "type": "histogram"
           }
          ],
          "histogram2d": [
           {
            "colorbar": {
             "outlinewidth": 0,
             "ticks": ""
            },
            "colorscale": [
             [
              0,
              "#0d0887"
             ],
             [
              0.1111111111111111,
              "#46039f"
             ],
             [
              0.2222222222222222,
              "#7201a8"
             ],
             [
              0.3333333333333333,
              "#9c179e"
             ],
             [
              0.4444444444444444,
              "#bd3786"
             ],
             [
              0.5555555555555556,
              "#d8576b"
             ],
             [
              0.6666666666666666,
              "#ed7953"
             ],
             [
              0.7777777777777778,
              "#fb9f3a"
             ],
             [
              0.8888888888888888,
              "#fdca26"
             ],
             [
              1,
              "#f0f921"
             ]
            ],
            "type": "histogram2d"
           }
          ],
          "histogram2dcontour": [
           {
            "colorbar": {
             "outlinewidth": 0,
             "ticks": ""
            },
            "colorscale": [
             [
              0,
              "#0d0887"
             ],
             [
              0.1111111111111111,
              "#46039f"
             ],
             [
              0.2222222222222222,
              "#7201a8"
             ],
             [
              0.3333333333333333,
              "#9c179e"
             ],
             [
              0.4444444444444444,
              "#bd3786"
             ],
             [
              0.5555555555555556,
              "#d8576b"
             ],
             [
              0.6666666666666666,
              "#ed7953"
             ],
             [
              0.7777777777777778,
              "#fb9f3a"
             ],
             [
              0.8888888888888888,
              "#fdca26"
             ],
             [
              1,
              "#f0f921"
             ]
            ],
            "type": "histogram2dcontour"
           }
          ],
          "mesh3d": [
           {
            "colorbar": {
             "outlinewidth": 0,
             "ticks": ""
            },
            "type": "mesh3d"
           }
          ],
          "parcoords": [
           {
            "line": {
             "colorbar": {
              "outlinewidth": 0,
              "ticks": ""
             }
            },
            "type": "parcoords"
           }
          ],
          "pie": [
           {
            "automargin": true,
            "type": "pie"
           }
          ],
          "scatter": [
           {
            "fillpattern": {
             "fillmode": "overlay",
             "size": 10,
             "solidity": 0.2
            },
            "type": "scatter"
           }
          ],
          "scatter3d": [
           {
            "line": {
             "colorbar": {
              "outlinewidth": 0,
              "ticks": ""
             }
            },
            "marker": {
             "colorbar": {
              "outlinewidth": 0,
              "ticks": ""
             }
            },
            "type": "scatter3d"
           }
          ],
          "scattercarpet": [
           {
            "marker": {
             "colorbar": {
              "outlinewidth": 0,
              "ticks": ""
             }
            },
            "type": "scattercarpet"
           }
          ],
          "scattergeo": [
           {
            "marker": {
             "colorbar": {
              "outlinewidth": 0,
              "ticks": ""
             }
            },
            "type": "scattergeo"
           }
          ],
          "scattergl": [
           {
            "marker": {
             "colorbar": {
              "outlinewidth": 0,
              "ticks": ""
             }
            },
            "type": "scattergl"
           }
          ],
          "scattermapbox": [
           {
            "marker": {
             "colorbar": {
              "outlinewidth": 0,
              "ticks": ""
             }
            },
            "type": "scattermapbox"
           }
          ],
          "scatterpolar": [
           {
            "marker": {
             "colorbar": {
              "outlinewidth": 0,
              "ticks": ""
             }
            },
            "type": "scatterpolar"
           }
          ],
          "scatterpolargl": [
           {
            "marker": {
             "colorbar": {
              "outlinewidth": 0,
              "ticks": ""
             }
            },
            "type": "scatterpolargl"
           }
          ],
          "scatterternary": [
           {
            "marker": {
             "colorbar": {
              "outlinewidth": 0,
              "ticks": ""
             }
            },
            "type": "scatterternary"
           }
          ],
          "surface": [
           {
            "colorbar": {
             "outlinewidth": 0,
             "ticks": ""
            },
            "colorscale": [
             [
              0,
              "#0d0887"
             ],
             [
              0.1111111111111111,
              "#46039f"
             ],
             [
              0.2222222222222222,
              "#7201a8"
             ],
             [
              0.3333333333333333,
              "#9c179e"
             ],
             [
              0.4444444444444444,
              "#bd3786"
             ],
             [
              0.5555555555555556,
              "#d8576b"
             ],
             [
              0.6666666666666666,
              "#ed7953"
             ],
             [
              0.7777777777777778,
              "#fb9f3a"
             ],
             [
              0.8888888888888888,
              "#fdca26"
             ],
             [
              1,
              "#f0f921"
             ]
            ],
            "type": "surface"
           }
          ],
          "table": [
           {
            "cells": {
             "fill": {
              "color": "#EBF0F8"
             },
             "line": {
              "color": "white"
             }
            },
            "header": {
             "fill": {
              "color": "#C8D4E3"
             },
             "line": {
              "color": "white"
             }
            },
            "type": "table"
           }
          ]
         },
         "layout": {
          "annotationdefaults": {
           "arrowcolor": "#2a3f5f",
           "arrowhead": 0,
           "arrowwidth": 1
          },
          "autotypenumbers": "strict",
          "coloraxis": {
           "colorbar": {
            "outlinewidth": 0,
            "ticks": ""
           }
          },
          "colorscale": {
           "diverging": [
            [
             0,
             "#8e0152"
            ],
            [
             0.1,
             "#c51b7d"
            ],
            [
             0.2,
             "#de77ae"
            ],
            [
             0.3,
             "#f1b6da"
            ],
            [
             0.4,
             "#fde0ef"
            ],
            [
             0.5,
             "#f7f7f7"
            ],
            [
             0.6,
             "#e6f5d0"
            ],
            [
             0.7,
             "#b8e186"
            ],
            [
             0.8,
             "#7fbc41"
            ],
            [
             0.9,
             "#4d9221"
            ],
            [
             1,
             "#276419"
            ]
           ],
           "sequential": [
            [
             0,
             "#0d0887"
            ],
            [
             0.1111111111111111,
             "#46039f"
            ],
            [
             0.2222222222222222,
             "#7201a8"
            ],
            [
             0.3333333333333333,
             "#9c179e"
            ],
            [
             0.4444444444444444,
             "#bd3786"
            ],
            [
             0.5555555555555556,
             "#d8576b"
            ],
            [
             0.6666666666666666,
             "#ed7953"
            ],
            [
             0.7777777777777778,
             "#fb9f3a"
            ],
            [
             0.8888888888888888,
             "#fdca26"
            ],
            [
             1,
             "#f0f921"
            ]
           ],
           "sequentialminus": [
            [
             0,
             "#0d0887"
            ],
            [
             0.1111111111111111,
             "#46039f"
            ],
            [
             0.2222222222222222,
             "#7201a8"
            ],
            [
             0.3333333333333333,
             "#9c179e"
            ],
            [
             0.4444444444444444,
             "#bd3786"
            ],
            [
             0.5555555555555556,
             "#d8576b"
            ],
            [
             0.6666666666666666,
             "#ed7953"
            ],
            [
             0.7777777777777778,
             "#fb9f3a"
            ],
            [
             0.8888888888888888,
             "#fdca26"
            ],
            [
             1,
             "#f0f921"
            ]
           ]
          },
          "colorway": [
           "#636efa",
           "#EF553B",
           "#00cc96",
           "#ab63fa",
           "#FFA15A",
           "#19d3f3",
           "#FF6692",
           "#B6E880",
           "#FF97FF",
           "#FECB52"
          ],
          "font": {
           "color": "#2a3f5f"
          },
          "geo": {
           "bgcolor": "white",
           "lakecolor": "white",
           "landcolor": "#E5ECF6",
           "showlakes": true,
           "showland": true,
           "subunitcolor": "white"
          },
          "hoverlabel": {
           "align": "left"
          },
          "hovermode": "closest",
          "mapbox": {
           "style": "light"
          },
          "paper_bgcolor": "white",
          "plot_bgcolor": "#E5ECF6",
          "polar": {
           "angularaxis": {
            "gridcolor": "white",
            "linecolor": "white",
            "ticks": ""
           },
           "bgcolor": "#E5ECF6",
           "radialaxis": {
            "gridcolor": "white",
            "linecolor": "white",
            "ticks": ""
           }
          },
          "scene": {
           "xaxis": {
            "backgroundcolor": "#E5ECF6",
            "gridcolor": "white",
            "gridwidth": 2,
            "linecolor": "white",
            "showbackground": true,
            "ticks": "",
            "zerolinecolor": "white"
           },
           "yaxis": {
            "backgroundcolor": "#E5ECF6",
            "gridcolor": "white",
            "gridwidth": 2,
            "linecolor": "white",
            "showbackground": true,
            "ticks": "",
            "zerolinecolor": "white"
           },
           "zaxis": {
            "backgroundcolor": "#E5ECF6",
            "gridcolor": "white",
            "gridwidth": 2,
            "linecolor": "white",
            "showbackground": true,
            "ticks": "",
            "zerolinecolor": "white"
           }
          },
          "shapedefaults": {
           "line": {
            "color": "#2a3f5f"
           }
          },
          "ternary": {
           "aaxis": {
            "gridcolor": "white",
            "linecolor": "white",
            "ticks": ""
           },
           "baxis": {
            "gridcolor": "white",
            "linecolor": "white",
            "ticks": ""
           },
           "bgcolor": "#E5ECF6",
           "caxis": {
            "gridcolor": "white",
            "linecolor": "white",
            "ticks": ""
           }
          },
          "title": {
           "x": 0.05
          },
          "xaxis": {
           "automargin": true,
           "gridcolor": "white",
           "linecolor": "white",
           "ticks": "",
           "title": {
            "standoff": 15
           },
           "zerolinecolor": "white",
           "zerolinewidth": 2
          },
          "yaxis": {
           "automargin": true,
           "gridcolor": "white",
           "linecolor": "white",
           "ticks": "",
           "title": {
            "standoff": 15
           },
           "zerolinecolor": "white",
           "zerolinewidth": 2
          }
         }
        },
        "title": {
         "text": "Purchases after Social Media Exposure by Gender/Age Group"
        },
        "xaxis": {
         "anchor": "y",
         "domain": [
          0,
          1
         ],
         "title": {
          "text": "Purchase Frequency"
         }
        },
        "yaxis": {
         "anchor": "x",
         "domain": [
          0,
          1
         ],
         "title": {
          "text": "Number of Respondents"
         }
        }
       }
      }
     },
     "metadata": {},
     "output_type": "display_data"
    }
   ],
   "source": [
    "\n",
    "### ERROR\n",
    "# df is the dataframe to be used->\n",
    "# Define relevant columns\n",
    "purchase_col = \"purchased_after_seeing_on_social_media\"\n",
    "group_col = \"gender\"  # Change to \"Age Group\" if needed\n",
    "\n",
    "# Group by purchase column and gender, then count occurrences\n",
    "grouped_df = df.groupby([purchase_col, group_col]).size().reset_index(name='count')\n",
    "# Create bar chart using Plotly with custom colors\n",
    "custom_colors = px.colors.qualitative.Prism  # Updated to a different color scheme\n",
    "fig = px.bar(grouped_df, x=purchase_col, y='count', color=group_col, text='count',\n",
    "             title=\"Purchases after Social Media Exposure by Gender/Age Group\", \n",
    "             labels={purchase_col: \"Purchase Frequency\", \"count\": \"Number of Respondents\"}, \n",
    "             barmode='group', color_discrete_sequence=custom_colors)\n",
    "\n",
    "# Remove bar outlines\n",
    "fig.update_traces(marker=dict(line=dict(width=0)))\n",
    "\n",
    "# Show plot\n",
    "fig.show()"
   ]
  },
  {
   "cell_type": "markdown",
   "metadata": {},
   "source": [
    "### **Discussion** ###\n",
    "\n",
    "The analysis reveals distinct purchase behaviors influenced by social media exposure across genders. A significant number of females (28) did not make any purchases, suggesting they are more resistant or less influenced by social media marketing compared to 13 males. Conversely, males are more likely to make 1-2 purchases (22 males) than females (16 females), indicating moderate influence on males. A smaller segment of both genders made 3-5 purchases, with females (7) slightly outpacing males (3). Notably, only males made 6-10 purchases (4 males), highlighting a small but highly influenced group. These insights suggest that while social media marketing can influence purchase behavior, it does not often result in high-frequency purchases. Therefore, strategies targeting males might be more effective, optimizing marketing campaigns to enhance engagement and conversion rates. Personalized and engaging content could improve the effectiveness of campaigns targeting females, aiming to convert them into buyers."
   ]
  },
  {
   "cell_type": "markdown",
   "metadata": {},
   "source": [
    "#### **2. Purchasing Trends​**"
   ]
  },
  {
   "cell_type": "code",
   "execution_count": 22,
   "metadata": {},
   "outputs": [
    {
     "data": {
      "image/png": "[encoded data removed]",
      "text/plain": [
       "<Figure size 1000x600 with 2 Axes>"
      ]
     },
     "metadata": {},
     "output_type": "display_data"
    }
   ],
   "source": [
    "# Pivot the data for heatmap (categorical correlation by count)\n",
    "heatmap_data = df.pivot_table(index=\"age_group\", columns=\"purchased_after_seeing_on_social_media\", aggfunc=\"size\", fill_value=0)\n",
    "# Order the pivot table based on age group\n",
    "age_order = ['Below 18', '18 - 36', '37 - 54', 'Above 55']  # Customize this order as per your age groups\n",
    "heatmap_data = heatmap_data.reindex(age_order)\n",
    "\n",
    "# Create heatmap\n",
    "plt.figure(figsize=(10, 6))\n",
    "sns.heatmap(heatmap_data, cmap=\"RdBu\", annot=True, fmt=\"d\", linewidths=0.5)\n",
    "plt.title(\"Purchasing Trends Across Age Groups\")\n",
    "plt.xlabel(\"Purchase Frequency\")\n",
    "plt.ylabel(\"Age Group\")\n",
    "plt.show()"
   ]
  },
  {
   "cell_type": "markdown",
   "metadata": {},
   "source": [
    "### **Discussion** ###\n",
    "\n",
    "The analysis reveals distinct patterns in purchase behavior influenced by social media exposure across different age groups. A significant number of individuals in the younger age group (e.g., 18-24 years) did not make any purchases, indicating they are more resistant or less influenced by social media marketing. In contrast, individuals in the middle age group (e.g., 25-34 years) are more likely to make 1-2 purchases after exposure, suggesting a moderate influence of social media marketing on this demographic. A smaller segment of both younger and middle-aged groups made 3-5 purchases, pointing to a group of moderately influenced individuals. Notably, only older individuals (e.g., 35-44 years) made 6-10 purchases, highlighting a small yet highly influenced group. These insights suggest that while social media marketing impacts purchase behavior, it generally results in low to moderate purchase frequency across different age groups. Therefore, targeting the middle-aged demographic might be more effective in optimizing campaigns to enhance engagement and conversion rates. Additionally, personalized and engaging content could improve the effectiveness of campaigns targeting younger individuals, converting them into buyers."
   ]
  },
  {
   "cell_type": "markdown",
   "metadata": {},
   "source": [
    "#### **3. Purchasing to fit in with Trends​**"
   ]
  },
  {
   "cell_type": "code",
   "execution_count": 23,
   "metadata": {},
   "outputs": [
    {
     "data": {
      "image/png": "[encoded data removed]",
      "text/plain": [
       "<Figure size 1200x800 with 4 Axes>"
      ]
     },
     "metadata": {},
     "output_type": "display_data"
    }
   ],
   "source": [
    "g = sns.FacetGrid(\n",
    "    bootstrapped_df, \n",
    "    col='age_group', \n",
    "    col_wrap=3, \n",
    "    height=4, \n",
    "    col_order=['Below 18', '18 - 36', '37 - 54', 'Above 55']\n",
    ")\n",
    "g.map(sns.histplot, 'purchased_to_fit_in_with_trends', bins=3, kde=False, color='purple')\n",
    "g.set_titles(col_template=\"{col_name} Age Group\")\n",
    "plt.show()\n"
   ]
  },
  {
   "cell_type": "markdown",
   "metadata": {},
   "source": [
    "### **Discussion** ###\n",
    "\n",
    "The graphs compare purchasing behavior across age groups, showing whether people bought items to \"fit in with trends.\" The x-axis shows \"Yes\" or \"No\" for purchases, and the y-axis shows the count of individuals. The data is split into four age groups: \"Below 18,\" \"18 - 36,\" \"37 - 54,\" and \"Above 55,\" with each group displayed side by side for easy comparison.\n",
    "\n",
    "The insights suggest that younger age groups, especially \"18 - 36,\" are more likely to buy items to fit in with trends, while older groups, particularly \"Above 55,\" tend to refrain from such purchases. This can inform targeted marketing strategies based on age."
   ]
  },
  {
   "cell_type": "markdown",
   "metadata": {},
   "source": [
    "#### **4. Ad Frequency vs Platform Usage Frequency​**"
   ]
  },
  {
   "cell_type": "code",
   "execution_count": 24,
   "metadata": {},
   "outputs": [
    {
     "data": {
      "application/vnd.plotly.v1+json": {
       "config": {
        "plotlyServerURL": "https://plot.ly"
       },
       "data": [
        {
         "alignmentgroup": "True",
         "hovertemplate": "Ad Frequency=Almost every time<br>Platform Usage Frequency=%{x}<br>count=%{y}<extra></extra>",
         "legendgroup": "Almost every time",
         "marker": {
          "color": "#636efa",
          "pattern": {
           "shape": ""
          }
         },
         "name": "Almost every time",
         "offsetgroup": "Almost every time",
         "orientation": "v",
         "showlegend": true,
         "textposition": "auto",
         "type": "bar",
         "x": [
          "Daily",
          "Multiple times daily"
         ],
         "xaxis": "x",
         "y": [
          10,
          19
         ],
         "yaxis": "y"
        },
        {
         "alignmentgroup": "True",
         "hovertemplate": "Ad Frequency=Frequently<br>Platform Usage Frequency=%{x}<br>count=%{y}<extra></extra>",
         "legendgroup": "Frequently",
         "marker": {
          "color": "#EF553B",
          "pattern": {
           "shape": ""
          }
         },
         "name": "Frequently",
         "offsetgroup": "Frequently",
         "orientation": "v",
         "showlegend": true,
         "textposition": "auto",
         "type": "bar",
         "x": [
          "Daily",
          "Multiple times daily",
          "Occasionally",
          "Rarely"
         ],
         "xaxis": "x",
         "y": [
          14,
          6,
          3,
          1
         ],
         "yaxis": "y"
        },
        {
         "alignmentgroup": "True",
         "hovertemplate": "Ad Frequency=Occasionally<br>Platform Usage Frequency=%{x}<br>count=%{y}<extra></extra>",
         "legendgroup": "Occasionally",
         "marker": {
          "color": "#00cc96",
          "pattern": {
           "shape": ""
          }
         },
         "name": "Occasionally",
         "offsetgroup": "Occasionally",
         "orientation": "v",
         "showlegend": true,
         "textposition": "auto",
         "type": "bar",
         "x": [
          "Daily",
          "Multiple times daily"
         ],
         "xaxis": "x",
         "y": [
          20,
          8
         ],
         "yaxis": "y"
        },
        {
         "alignmentgroup": "True",
         "hovertemplate": "Ad Frequency=Rarely<br>Platform Usage Frequency=%{x}<br>count=%{y}<extra></extra>",
         "legendgroup": "Rarely",
         "marker": {
          "color": "#ab63fa",
          "pattern": {
           "shape": ""
          }
         },
         "name": "Rarely",
         "offsetgroup": "Rarely",
         "orientation": "v",
         "showlegend": true,
         "textposition": "auto",
         "type": "bar",
         "x": [
          "Daily",
          "Occasionally",
          "Rarely"
         ],
         "xaxis": "x",
         "y": [
          1,
          7,
          3
         ],
         "yaxis": "y"
        }
       ],
       "layout": {
        "barmode": "stack",
        "legend": {
         "title": {
          "text": "Ad Frequency"
         },
         "tracegroupgap": 0
        },
        "template": {
         "data": {
          "bar": [
           {
            "error_x": {
             "color": "#2a3f5f"
            },
            "error_y": {
             "color": "#2a3f5f"
            },
            "marker": {
             "line": {
              "color": "#E5ECF6",
              "width": 0.5
             },
             "pattern": {
              "fillmode": "overlay",
              "size": 10,
              "solidity": 0.2
             }
            },
            "type": "bar"
           }
          ],
          "barpolar": [
           {
            "marker": {
             "line": {
              "color": "#E5ECF6",
              "width": 0.5
             },
             "pattern": {
              "fillmode": "overlay",
              "size": 10,
              "solidity": 0.2
             }
            },
            "type": "barpolar"
           }
          ],
          "carpet": [
           {
            "aaxis": {
             "endlinecolor": "#2a3f5f",
             "gridcolor": "white",
             "linecolor": "white",
             "minorgridcolor": "white",
             "startlinecolor": "#2a3f5f"
            },
            "baxis": {
             "endlinecolor": "#2a3f5f",
             "gridcolor": "white",
             "linecolor": "white",
             "minorgridcolor": "white",
             "startlinecolor": "#2a3f5f"
            },
            "type": "carpet"
           }
          ],
          "choropleth": [
           {
            "colorbar": {
             "outlinewidth": 0,
             "ticks": ""
            },
            "type": "choropleth"
           }
          ],
          "contour": [
           {
            "colorbar": {
             "outlinewidth": 0,
             "ticks": ""
            },
            "colorscale": [
             [
              0,
              "#0d0887"
             ],
             [
              0.1111111111111111,
              "#46039f"
             ],
             [
              0.2222222222222222,
              "#7201a8"
             ],
             [
              0.3333333333333333,
              "#9c179e"
             ],
             [
              0.4444444444444444,
              "#bd3786"
             ],
             [
              0.5555555555555556,
              "#d8576b"
             ],
             [
              0.6666666666666666,
              "#ed7953"
             ],
             [
              0.7777777777777778,
              "#fb9f3a"
             ],
             [
              0.8888888888888888,
              "#fdca26"
             ],
             [
              1,
              "#f0f921"
             ]
            ],
            "type": "contour"
           }
          ],
          "contourcarpet": [
           {
            "colorbar": {
             "outlinewidth": 0,
             "ticks": ""
            },
            "type": "contourcarpet"
           }
          ],
          "heatmap": [
           {
            "colorbar": {
             "outlinewidth": 0,
             "ticks": ""
            },
            "colorscale": [
             [
              0,
              "#0d0887"
             ],
             [
              0.1111111111111111,
              "#46039f"
             ],
             [
              0.2222222222222222,
              "#7201a8"
             ],
             [
              0.3333333333333333,
              "#9c179e"
             ],
             [
              0.4444444444444444,
              "#bd3786"
             ],
             [
              0.5555555555555556,
              "#d8576b"
             ],
             [
              0.6666666666666666,
              "#ed7953"
             ],
             [
              0.7777777777777778,
              "#fb9f3a"
             ],
             [
              0.8888888888888888,
              "#fdca26"
             ],
             [
              1,
              "#f0f921"
             ]
            ],
            "type": "heatmap"
           }
          ],
          "heatmapgl": [
           {
            "colorbar": {
             "outlinewidth": 0,
             "ticks": ""
            },
            "colorscale": [
             [
              0,
              "#0d0887"
             ],
             [
              0.1111111111111111,
              "#46039f"
             ],
             [
              0.2222222222222222,
              "#7201a8"
             ],
             [
              0.3333333333333333,
              "#9c179e"
             ],
             [
              0.4444444444444444,
              "#bd3786"
             ],
             [
              0.5555555555555556,
              "#d8576b"
             ],
             [
              0.6666666666666666,
              "#ed7953"
             ],
             [
              0.7777777777777778,
              "#fb9f3a"
             ],
             [
              0.8888888888888888,
              "#fdca26"
             ],
             [
              1,
              "#f0f921"
             ]
            ],
            "type": "heatmapgl"
           }
          ],
          "histogram": [
           {
            "marker": {
             "pattern": {
              "fillmode": "overlay",
              "size": 10,
              "solidity": 0.2
             }
            },
            "type": "histogram"
           }
          ],
          "histogram2d": [
           {
            "colorbar": {
             "outlinewidth": 0,
             "ticks": ""
            },
            "colorscale": [
             [
              0,
              "#0d0887"
             ],
             [
              0.1111111111111111,
              "#46039f"
             ],
             [
              0.2222222222222222,
              "#7201a8"
             ],
             [
              0.3333333333333333,
              "#9c179e"
             ],
             [
              0.4444444444444444,
              "#bd3786"
             ],
             [
              0.5555555555555556,
              "#d8576b"
             ],
             [
              0.6666666666666666,
              "#ed7953"
             ],
             [
              0.7777777777777778,
              "#fb9f3a"
             ],
             [
              0.8888888888888888,
              "#fdca26"
             ],
             [
              1,
              "#f0f921"
             ]
            ],
            "type": "histogram2d"
           }
          ],
          "histogram2dcontour": [
           {
            "colorbar": {
             "outlinewidth": 0,
             "ticks": ""
            },
            "colorscale": [
             [
              0,
              "#0d0887"
             ],
             [
              0.1111111111111111,
              "#46039f"
             ],
             [
              0.2222222222222222,
              "#7201a8"
             ],
             [
              0.3333333333333333,
              "#9c179e"
             ],
             [
              0.4444444444444444,
              "#bd3786"
             ],
             [
              0.5555555555555556,
              "#d8576b"
             ],
             [
              0.6666666666666666,
              "#ed7953"
             ],
             [
              0.7777777777777778,
              "#fb9f3a"
             ],
             [
              0.8888888888888888,
              "#fdca26"
             ],
             [
              1,
              "#f0f921"
             ]
            ],
            "type": "histogram2dcontour"
           }
          ],
          "mesh3d": [
           {
            "colorbar": {
             "outlinewidth": 0,
             "ticks": ""
            },
            "type": "mesh3d"
           }
          ],
          "parcoords": [
           {
            "line": {
             "colorbar": {
              "outlinewidth": 0,
              "ticks": ""
             }
            },
            "type": "parcoords"
           }
          ],
          "pie": [
           {
            "automargin": true,
            "type": "pie"
           }
          ],
          "scatter": [
           {
            "fillpattern": {
             "fillmode": "overlay",
             "size": 10,
             "solidity": 0.2
            },
            "type": "scatter"
           }
          ],
          "scatter3d": [
           {
            "line": {
             "colorbar": {
              "outlinewidth": 0,
              "ticks": ""
             }
            },
            "marker": {
             "colorbar": {
              "outlinewidth": 0,
              "ticks": ""
             }
            },
            "type": "scatter3d"
           }
          ],
          "scattercarpet": [
           {
            "marker": {
             "colorbar": {
              "outlinewidth": 0,
              "ticks": ""
             }
            },
            "type": "scattercarpet"
           }
          ],
          "scattergeo": [
           {
            "marker": {
             "colorbar": {
              "outlinewidth": 0,
              "ticks": ""
             }
            },
            "type": "scattergeo"
           }
          ],
          "scattergl": [
           {
            "marker": {
             "colorbar": {
              "outlinewidth": 0,
              "ticks": ""
             }
            },
            "type": "scattergl"
           }
          ],
          "scattermapbox": [
           {
            "marker": {
             "colorbar": {
              "outlinewidth": 0,
              "ticks": ""
             }
            },
            "type": "scattermapbox"
           }
          ],
          "scatterpolar": [
           {
            "marker": {
             "colorbar": {
              "outlinewidth": 0,
              "ticks": ""
             }
            },
            "type": "scatterpolar"
           }
          ],
          "scatterpolargl": [
           {
            "marker": {
             "colorbar": {
              "outlinewidth": 0,
              "ticks": ""
             }
            },
            "type": "scatterpolargl"
           }
          ],
          "scatterternary": [
           {
            "marker": {
             "colorbar": {
              "outlinewidth": 0,
              "ticks": ""
             }
            },
            "type": "scatterternary"
           }
          ],
          "surface": [
           {
            "colorbar": {
             "outlinewidth": 0,
             "ticks": ""
            },
            "colorscale": [
             [
              0,
              "#0d0887"
             ],
             [
              0.1111111111111111,
              "#46039f"
             ],
             [
              0.2222222222222222,
              "#7201a8"
             ],
             [
              0.3333333333333333,
              "#9c179e"
             ],
             [
              0.4444444444444444,
              "#bd3786"
             ],
             [
              0.5555555555555556,
              "#d8576b"
             ],
             [
              0.6666666666666666,
              "#ed7953"
             ],
             [
              0.7777777777777778,
              "#fb9f3a"
             ],
             [
              0.8888888888888888,
              "#fdca26"
             ],
             [
              1,
              "#f0f921"
             ]
            ],
            "type": "surface"
           }
          ],
          "table": [
           {
            "cells": {
             "fill": {
              "color": "#EBF0F8"
             },
             "line": {
              "color": "white"
             }
            },
            "header": {
             "fill": {
              "color": "#C8D4E3"
             },
             "line": {
              "color": "white"
             }
            },
            "type": "table"
           }
          ]
         },
         "layout": {
          "annotationdefaults": {
           "arrowcolor": "#2a3f5f",
           "arrowhead": 0,
           "arrowwidth": 1
          },
          "autotypenumbers": "strict",
          "coloraxis": {
           "colorbar": {
            "outlinewidth": 0,
            "ticks": ""
           }
          },
          "colorscale": {
           "diverging": [
            [
             0,
             "#8e0152"
            ],
            [
             0.1,
             "#c51b7d"
            ],
            [
             0.2,
             "#de77ae"
            ],
            [
             0.3,
             "#f1b6da"
            ],
            [
             0.4,
             "#fde0ef"
            ],
            [
             0.5,
             "#f7f7f7"
            ],
            [
             0.6,
             "#e6f5d0"
            ],
            [
             0.7,
             "#b8e186"
            ],
            [
             0.8,
             "#7fbc41"
            ],
            [
             0.9,
             "#4d9221"
            ],
            [
             1,
             "#276419"
            ]
           ],
           "sequential": [
            [
             0,
             "#0d0887"
            ],
            [
             0.1111111111111111,
             "#46039f"
            ],
            [
             0.2222222222222222,
             "#7201a8"
            ],
            [
             0.3333333333333333,
             "#9c179e"
            ],
            [
             0.4444444444444444,
             "#bd3786"
            ],
            [
             0.5555555555555556,
             "#d8576b"
            ],
            [
             0.6666666666666666,
             "#ed7953"
            ],
            [
             0.7777777777777778,
             "#fb9f3a"
            ],
            [
             0.8888888888888888,
             "#fdca26"
            ],
            [
             1,
             "#f0f921"
            ]
           ],
           "sequentialminus": [
            [
             0,
             "#0d0887"
            ],
            [
             0.1111111111111111,
             "#46039f"
            ],
            [
             0.2222222222222222,
             "#7201a8"
            ],
            [
             0.3333333333333333,
             "#9c179e"
            ],
            [
             0.4444444444444444,
             "#bd3786"
            ],
            [
             0.5555555555555556,
             "#d8576b"
            ],
            [
             0.6666666666666666,
             "#ed7953"
            ],
            [
             0.7777777777777778,
             "#fb9f3a"
            ],
            [
             0.8888888888888888,
             "#fdca26"
            ],
            [
             1,
             "#f0f921"
            ]
           ]
          },
          "colorway": [
           "#636efa",
           "#EF553B",
           "#00cc96",
           "#ab63fa",
           "#FFA15A",
           "#19d3f3",
           "#FF6692",
           "#B6E880",
           "#FF97FF",
           "#FECB52"
          ],
          "font": {
           "color": "#2a3f5f"
          },
          "geo": {
           "bgcolor": "white",
           "lakecolor": "white",
           "landcolor": "#E5ECF6",
           "showlakes": true,
           "showland": true,
           "subunitcolor": "white"
          },
          "hoverlabel": {
           "align": "left"
          },
          "hovermode": "closest",
          "mapbox": {
           "style": "light"
          },
          "paper_bgcolor": "white",
          "plot_bgcolor": "#E5ECF6",
          "polar": {
           "angularaxis": {
            "gridcolor": "white",
            "linecolor": "white",
            "ticks": ""
           },
           "bgcolor": "#E5ECF6",
           "radialaxis": {
            "gridcolor": "white",
            "linecolor": "white",
            "ticks": ""
           }
          },
          "scene": {
           "xaxis": {
            "backgroundcolor": "#E5ECF6",
            "gridcolor": "white",
            "gridwidth": 2,
            "linecolor": "white",
            "showbackground": true,
            "ticks": "",
            "zerolinecolor": "white"
           },
           "yaxis": {
            "backgroundcolor": "#E5ECF6",
            "gridcolor": "white",
            "gridwidth": 2,
            "linecolor": "white",
            "showbackground": true,
            "ticks": "",
            "zerolinecolor": "white"
           },
           "zaxis": {
            "backgroundcolor": "#E5ECF6",
            "gridcolor": "white",
            "gridwidth": 2,
            "linecolor": "white",
            "showbackground": true,
            "ticks": "",
            "zerolinecolor": "white"
           }
          },
          "shapedefaults": {
           "line": {
            "color": "#2a3f5f"
           }
          },
          "ternary": {
           "aaxis": {
            "gridcolor": "white",
            "linecolor": "white",
            "ticks": ""
           },
           "baxis": {
            "gridcolor": "white",
            "linecolor": "white",
            "ticks": ""
           },
           "bgcolor": "#E5ECF6",
           "caxis": {
            "gridcolor": "white",
            "linecolor": "white",
            "ticks": ""
           }
          },
          "title": {
           "x": 0.05
          },
          "xaxis": {
           "automargin": true,
           "gridcolor": "white",
           "linecolor": "white",
           "ticks": "",
           "title": {
            "standoff": 15
           },
           "zerolinecolor": "white",
           "zerolinewidth": 2
          },
          "yaxis": {
           "automargin": true,
           "gridcolor": "white",
           "linecolor": "white",
           "ticks": "",
           "title": {
            "standoff": 15
           },
           "zerolinecolor": "white",
           "zerolinewidth": 2
          }
         }
        },
        "title": {
         "text": "Ad Frequency vs Platform Usage Frequency"
        },
        "xaxis": {
         "anchor": "y",
         "domain": [
          0,
          1
         ],
         "title": {
          "text": "Platform Usage Frequency"
         }
        },
        "yaxis": {
         "anchor": "x",
         "domain": [
          0,
          1
         ],
         "title": {
          "text": "count"
         }
        }
       }
      }
     },
     "metadata": {},
     "output_type": "display_data"
    }
   ],
   "source": [
    "count_df = df.groupby(['platform_usage_frequency', 'ad_frequency_on_social_media']).size().reset_index(name='count')\n",
    "\n",
    "fig6 = px.bar(count_df, \n",
    "              x=\"platform_usage_frequency\", \n",
    "              y=\"count\", \n",
    "              color=\"ad_frequency_on_social_media\", \n",
    "              title=\"Ad Frequency vs Platform Usage Frequency\",\n",
    "              labels={\"platform_usage_frequency\": \"Platform Usage Frequency\", \n",
    "                      \"ad_frequency_on_social_media\": \"Ad Frequency\"},\n",
    "              barmode=\"stack\")\n",
    "fig6.show()"
   ]
  },
  {
   "cell_type": "markdown",
   "metadata": {},
   "source": [
    "### **Discussion** ###\n",
    "**Users Who Engage Daily See Ads the Most:**\n",
    "The largest group of users falls under \"Daily\" platform usage. They mostly encounter ads \"Occasionally\" and \"Frequently\", with a few seeing ads \"Almost every time\".\n",
    "\n",
    "**Users Engaging Multiple Times Daily Also Experience Frequent Ads:**\n",
    "This group also sees a high proportion of ads \"Frequently\" and \"Occasionally\". Fewer users in this category report ads appearing \"Almost every time.\"\n",
    "\n",
    "**Occasional and Rare Users See Fewer Ads:**\n",
    "Those who use social media \"Occasionally\" or \"Rarely\" encounter ads much less frequently. The ad frequency for these groups is mostly \"Rarely\" and \"Occasionally\", with very few experiencing frequent ads."
   ]
  },
  {
   "cell_type": "markdown",
   "metadata": {},
   "source": [
    "#### **5. Trustworthiness of Ads​**"
   ]
  },
  {
   "cell_type": "code",
   "execution_count": 25,
   "metadata": {},
   "outputs": [
    {
     "data": {
      "application/vnd.plotly.v1+json": {
       "config": {
        "plotlyServerURL": "https://plot.ly"
       },
       "data": [
        {
         "alignmentgroup": "True",
         "hovertemplate": "Age Group=%{x}<br>Trust Level=%{y}<extra></extra>",
         "legendgroup": "",
         "marker": {
          "color": "#636efa"
         },
         "name": "",
         "notched": false,
         "offsetgroup": "",
         "orientation": "v",
         "showlegend": false,
         "type": "box",
         "x": [
          "Above 55",
          "37 - 54",
          "Above 55",
          "Above 55",
          "18 - 36",
          "18 - 36",
          "Below 18",
          "37 - 54",
          "Above 55",
          "18 - 36",
          "Above 55",
          "18 - 36",
          "Below 18",
          "37 - 54",
          "Above 55",
          "Above 55",
          "18 - 36",
          "37 - 54",
          "18 - 36",
          "Below 18",
          "Above 55",
          "18 - 36",
          "Below 18",
          "18 - 36",
          "Below 18",
          "18 - 36",
          "18 - 36",
          "37 - 54",
          "37 - 54",
          "Below 18",
          "18 - 36",
          "Below 18",
          "Below 18",
          "Below 18",
          "18 - 36",
          "Above 55",
          "Below 18",
          "18 - 36",
          "37 - 54",
          "37 - 54",
          "37 - 54",
          "Below 18",
          "Below 18",
          "Above 55",
          "37 - 54",
          "18 - 36",
          "18 - 36",
          "Below 18",
          "Below 18",
          "Below 18",
          "Above 55",
          "18 - 36",
          "Above 55",
          "18 - 36",
          "Above 55",
          "37 - 54",
          "18 - 36",
          "37 - 54",
          "Above 55",
          "18 - 36",
          "18 - 36",
          "Above 55",
          "37 - 54",
          "37 - 54",
          "37 - 54",
          "Above 55",
          "Below 18",
          "Below 18",
          "37 - 54",
          "Below 18",
          "Above 55",
          "Below 18",
          "Below 18",
          "37 - 54",
          "18 - 36",
          "Above 55",
          "37 - 54",
          "Above 55",
          "Below 18",
          "Below 18",
          "37 - 54",
          "37 - 54",
          "Above 55",
          "Above 55",
          "37 - 54",
          "Below 18",
          "18 - 36",
          "18 - 36",
          "Above 55",
          "37 - 54",
          "37 - 54",
          "Above 55"
         ],
         "x0": " ",
         "xaxis": "x",
         "y": [
          1,
          3,
          1,
          3,
          3,
          3,
          3,
          3,
          2,
          1,
          1,
          3,
          3,
          2,
          1,
          2,
          3,
          2,
          4,
          3,
          4,
          3,
          2,
          2,
          3,
          3,
          3,
          1,
          4,
          3,
          3,
          2,
          5,
          4,
          3,
          1,
          4,
          2,
          2,
          2,
          1,
          3,
          3,
          1,
          1,
          3,
          3,
          2,
          4,
          2,
          2,
          3,
          2,
          3,
          1,
          1,
          4,
          3,
          4,
          2,
          2,
          2,
          2,
          1,
          4,
          1,
          2,
          3,
          2,
          4,
          4,
          4,
          2,
          1,
          3,
          2,
          3,
          4,
          3,
          4,
          3,
          3,
          1,
          3,
          2,
          2,
          1,
          3,
          2,
          3,
          1,
          1
         ],
         "y0": " ",
         "yaxis": "y"
        }
       ],
       "layout": {
        "boxmode": "group",
        "legend": {
         "tracegroupgap": 0
        },
        "template": {
         "data": {
          "bar": [
           {
            "error_x": {
             "color": "#2a3f5f"
            },
            "error_y": {
             "color": "#2a3f5f"
            },
            "marker": {
             "line": {
              "color": "#E5ECF6",
              "width": 0.5
             },
             "pattern": {
              "fillmode": "overlay",
              "size": 10,
              "solidity": 0.2
             }
            },
            "type": "bar"
           }
          ],
          "barpolar": [
           {
            "marker": {
             "line": {
              "color": "#E5ECF6",
              "width": 0.5
             },
             "pattern": {
              "fillmode": "overlay",
              "size": 10,
              "solidity": 0.2
             }
            },
            "type": "barpolar"
           }
          ],
          "carpet": [
           {
            "aaxis": {
             "endlinecolor": "#2a3f5f",
             "gridcolor": "white",
             "linecolor": "white",
             "minorgridcolor": "white",
             "startlinecolor": "#2a3f5f"
            },
            "baxis": {
             "endlinecolor": "#2a3f5f",
             "gridcolor": "white",
             "linecolor": "white",
             "minorgridcolor": "white",
             "startlinecolor": "#2a3f5f"
            },
            "type": "carpet"
           }
          ],
          "choropleth": [
           {
            "colorbar": {
             "outlinewidth": 0,
             "ticks": ""
            },
            "type": "choropleth"
           }
          ],
          "contour": [
           {
            "colorbar": {
             "outlinewidth": 0,
             "ticks": ""
            },
            "colorscale": [
             [
              0,
              "#0d0887"
             ],
             [
              0.1111111111111111,
              "#46039f"
             ],
             [
              0.2222222222222222,
              "#7201a8"
             ],
             [
              0.3333333333333333,
              "#9c179e"
             ],
             [
              0.4444444444444444,
              "#bd3786"
             ],
             [
              0.5555555555555556,
              "#d8576b"
             ],
             [
              0.6666666666666666,
              "#ed7953"
             ],
             [
              0.7777777777777778,
              "#fb9f3a"
             ],
             [
              0.8888888888888888,
              "#fdca26"
             ],
             [
              1,
              "#f0f921"
             ]
            ],
            "type": "contour"
           }
          ],
          "contourcarpet": [
           {
            "colorbar": {
             "outlinewidth": 0,
             "ticks": ""
            },
            "type": "contourcarpet"
           }
          ],
          "heatmap": [
           {
            "colorbar": {
             "outlinewidth": 0,
             "ticks": ""
            },
            "colorscale": [
             [
              0,
              "#0d0887"
             ],
             [
              0.1111111111111111,
              "#46039f"
             ],
             [
              0.2222222222222222,
              "#7201a8"
             ],
             [
              0.3333333333333333,
              "#9c179e"
             ],
             [
              0.4444444444444444,
              "#bd3786"
             ],
             [
              0.5555555555555556,
              "#d8576b"
             ],
             [
              0.6666666666666666,
              "#ed7953"
             ],
             [
              0.7777777777777778,
              "#fb9f3a"
             ],
             [
              0.8888888888888888,
              "#fdca26"
             ],
             [
              1,
              "#f0f921"
             ]
            ],
            "type": "heatmap"
           }
          ],
          "heatmapgl": [
           {
            "colorbar": {
             "outlinewidth": 0,
             "ticks": ""
            },
            "colorscale": [
             [
              0,
              "#0d0887"
             ],
             [
              0.1111111111111111,
              "#46039f"
             ],
             [
              0.2222222222222222,
              "#7201a8"
             ],
             [
              0.3333333333333333,
              "#9c179e"
             ],
             [
              0.4444444444444444,
              "#bd3786"
             ],
             [
              0.5555555555555556,
              "#d8576b"
             ],
             [
              0.6666666666666666,
              "#ed7953"
             ],
             [
              0.7777777777777778,
              "#fb9f3a"
             ],
             [
              0.8888888888888888,
              "#fdca26"
             ],
             [
              1,
              "#f0f921"
             ]
            ],
            "type": "heatmapgl"
           }
          ],
          "histogram": [
           {
            "marker": {
             "pattern": {
              "fillmode": "overlay",
              "size": 10,
              "solidity": 0.2
             }
            },
            "type": "histogram"
           }
          ],
          "histogram2d": [
           {
            "colorbar": {
             "outlinewidth": 0,
             "ticks": ""
            },
            "colorscale": [
             [
              0,
              "#0d0887"
             ],
             [
              0.1111111111111111,
              "#46039f"
             ],
             [
              0.2222222222222222,
              "#7201a8"
             ],
             [
              0.3333333333333333,
              "#9c179e"
             ],
             [
              0.4444444444444444,
              "#bd3786"
             ],
             [
              0.5555555555555556,
              "#d8576b"
             ],
             [
              0.6666666666666666,
              "#ed7953"
             ],
             [
              0.7777777777777778,
              "#fb9f3a"
             ],
             [
              0.8888888888888888,
              "#fdca26"
             ],
             [
              1,
              "#f0f921"
             ]
            ],
            "type": "histogram2d"
           }
          ],
          "histogram2dcontour": [
           {
            "colorbar": {
             "outlinewidth": 0,
             "ticks": ""
            },
            "colorscale": [
             [
              0,
              "#0d0887"
             ],
             [
              0.1111111111111111,
              "#46039f"
             ],
             [
              0.2222222222222222,
              "#7201a8"
             ],
             [
              0.3333333333333333,
              "#9c179e"
             ],
             [
              0.4444444444444444,
              "#bd3786"
             ],
             [
              0.5555555555555556,
              "#d8576b"
             ],
             [
              0.6666666666666666,
              "#ed7953"
             ],
             [
              0.7777777777777778,
              "#fb9f3a"
             ],
             [
              0.8888888888888888,
              "#fdca26"
             ],
             [
              1,
              "#f0f921"
             ]
            ],
            "type": "histogram2dcontour"
           }
          ],
          "mesh3d": [
           {
            "colorbar": {
             "outlinewidth": 0,
             "ticks": ""
            },
            "type": "mesh3d"
           }
          ],
          "parcoords": [
           {
            "line": {
             "colorbar": {
              "outlinewidth": 0,
              "ticks": ""
             }
            },
            "type": "parcoords"
           }
          ],
          "pie": [
           {
            "automargin": true,
            "type": "pie"
           }
          ],
          "scatter": [
           {
            "fillpattern": {
             "fillmode": "overlay",
             "size": 10,
             "solidity": 0.2
            },
            "type": "scatter"
           }
          ],
          "scatter3d": [
           {
            "line": {
             "colorbar": {
              "outlinewidth": 0,
              "ticks": ""
             }
            },
            "marker": {
             "colorbar": {
              "outlinewidth": 0,
              "ticks": ""
             }
            },
            "type": "scatter3d"
           }
          ],
          "scattercarpet": [
           {
            "marker": {
             "colorbar": {
              "outlinewidth": 0,
              "ticks": ""
             }
            },
            "type": "scattercarpet"
           }
          ],
          "scattergeo": [
           {
            "marker": {
             "colorbar": {
              "outlinewidth": 0,
              "ticks": ""
             }
            },
            "type": "scattergeo"
           }
          ],
          "scattergl": [
           {
            "marker": {
             "colorbar": {
              "outlinewidth": 0,
              "ticks": ""
             }
            },
            "type": "scattergl"
           }
          ],
          "scattermapbox": [
           {
            "marker": {
             "colorbar": {
              "outlinewidth": 0,
              "ticks": ""
             }
            },
            "type": "scattermapbox"
           }
          ],
          "scatterpolar": [
           {
            "marker": {
             "colorbar": {
              "outlinewidth": 0,
              "ticks": ""
             }
            },
            "type": "scatterpolar"
           }
          ],
          "scatterpolargl": [
           {
            "marker": {
             "colorbar": {
              "outlinewidth": 0,
              "ticks": ""
             }
            },
            "type": "scatterpolargl"
           }
          ],
          "scatterternary": [
           {
            "marker": {
             "colorbar": {
              "outlinewidth": 0,
              "ticks": ""
             }
            },
            "type": "scatterternary"
           }
          ],
          "surface": [
           {
            "colorbar": {
             "outlinewidth": 0,
             "ticks": ""
            },
            "colorscale": [
             [
              0,
              "#0d0887"
             ],
             [
              0.1111111111111111,
              "#46039f"
             ],
             [
              0.2222222222222222,
              "#7201a8"
             ],
             [
              0.3333333333333333,
              "#9c179e"
             ],
             [
              0.4444444444444444,
              "#bd3786"
             ],
             [
              0.5555555555555556,
              "#d8576b"
             ],
             [
              0.6666666666666666,
              "#ed7953"
             ],
             [
              0.7777777777777778,
              "#fb9f3a"
             ],
             [
              0.8888888888888888,
              "#fdca26"
             ],
             [
              1,
              "#f0f921"
             ]
            ],
            "type": "surface"
           }
          ],
          "table": [
           {
            "cells": {
             "fill": {
              "color": "#EBF0F8"
             },
             "line": {
              "color": "white"
             }
            },
            "header": {
             "fill": {
              "color": "#C8D4E3"
             },
             "line": {
              "color": "white"
             }
            },
            "type": "table"
           }
          ]
         },
         "layout": {
          "annotationdefaults": {
           "arrowcolor": "#2a3f5f",
           "arrowhead": 0,
           "arrowwidth": 1
          },
          "autotypenumbers": "strict",
          "coloraxis": {
           "colorbar": {
            "outlinewidth": 0,
            "ticks": ""
           }
          },
          "colorscale": {
           "diverging": [
            [
             0,
             "#8e0152"
            ],
            [
             0.1,
             "#c51b7d"
            ],
            [
             0.2,
             "#de77ae"
            ],
            [
             0.3,
             "#f1b6da"
            ],
            [
             0.4,
             "#fde0ef"
            ],
            [
             0.5,
             "#f7f7f7"
            ],
            [
             0.6,
             "#e6f5d0"
            ],
            [
             0.7,
             "#b8e186"
            ],
            [
             0.8,
             "#7fbc41"
            ],
            [
             0.9,
             "#4d9221"
            ],
            [
             1,
             "#276419"
            ]
           ],
           "sequential": [
            [
             0,
             "#0d0887"
            ],
            [
             0.1111111111111111,
             "#46039f"
            ],
            [
             0.2222222222222222,
             "#7201a8"
            ],
            [
             0.3333333333333333,
             "#9c179e"
            ],
            [
             0.4444444444444444,
             "#bd3786"
            ],
            [
             0.5555555555555556,
             "#d8576b"
            ],
            [
             0.6666666666666666,
             "#ed7953"
            ],
            [
             0.7777777777777778,
             "#fb9f3a"
            ],
            [
             0.8888888888888888,
             "#fdca26"
            ],
            [
             1,
             "#f0f921"
            ]
           ],
           "sequentialminus": [
            [
             0,
             "#0d0887"
            ],
            [
             0.1111111111111111,
             "#46039f"
            ],
            [
             0.2222222222222222,
             "#7201a8"
            ],
            [
             0.3333333333333333,
             "#9c179e"
            ],
            [
             0.4444444444444444,
             "#bd3786"
            ],
            [
             0.5555555555555556,
             "#d8576b"
            ],
            [
             0.6666666666666666,
             "#ed7953"
            ],
            [
             0.7777777777777778,
             "#fb9f3a"
            ],
            [
             0.8888888888888888,
             "#fdca26"
            ],
            [
             1,
             "#f0f921"
            ]
           ]
          },
          "colorway": [
           "#636efa",
           "#EF553B",
           "#00cc96",
           "#ab63fa",
           "#FFA15A",
           "#19d3f3",
           "#FF6692",
           "#B6E880",
           "#FF97FF",
           "#FECB52"
          ],
          "font": {
           "color": "#2a3f5f"
          },
          "geo": {
           "bgcolor": "white",
           "lakecolor": "white",
           "landcolor": "#E5ECF6",
           "showlakes": true,
           "showland": true,
           "subunitcolor": "white"
          },
          "hoverlabel": {
           "align": "left"
          },
          "hovermode": "closest",
          "mapbox": {
           "style": "light"
          },
          "paper_bgcolor": "white",
          "plot_bgcolor": "#E5ECF6",
          "polar": {
           "angularaxis": {
            "gridcolor": "white",
            "linecolor": "white",
            "ticks": ""
           },
           "bgcolor": "#E5ECF6",
           "radialaxis": {
            "gridcolor": "white",
            "linecolor": "white",
            "ticks": ""
           }
          },
          "scene": {
           "xaxis": {
            "backgroundcolor": "#E5ECF6",
            "gridcolor": "white",
            "gridwidth": 2,
            "linecolor": "white",
            "showbackground": true,
            "ticks": "",
            "zerolinecolor": "white"
           },
           "yaxis": {
            "backgroundcolor": "#E5ECF6",
            "gridcolor": "white",
            "gridwidth": 2,
            "linecolor": "white",
            "showbackground": true,
            "ticks": "",
            "zerolinecolor": "white"
           },
           "zaxis": {
            "backgroundcolor": "#E5ECF6",
            "gridcolor": "white",
            "gridwidth": 2,
            "linecolor": "white",
            "showbackground": true,
            "ticks": "",
            "zerolinecolor": "white"
           }
          },
          "shapedefaults": {
           "line": {
            "color": "#2a3f5f"
           }
          },
          "ternary": {
           "aaxis": {
            "gridcolor": "white",
            "linecolor": "white",
            "ticks": ""
           },
           "baxis": {
            "gridcolor": "white",
            "linecolor": "white",
            "ticks": ""
           },
           "bgcolor": "#E5ECF6",
           "caxis": {
            "gridcolor": "white",
            "linecolor": "white",
            "ticks": ""
           }
          },
          "title": {
           "x": 0.05
          },
          "xaxis": {
           "automargin": true,
           "gridcolor": "white",
           "linecolor": "white",
           "ticks": "",
           "title": {
            "standoff": 15
           },
           "zerolinecolor": "white",
           "zerolinewidth": 2
          },
          "yaxis": {
           "automargin": true,
           "gridcolor": "white",
           "linecolor": "white",
           "ticks": "",
           "title": {
            "standoff": 15
           },
           "zerolinecolor": "white",
           "zerolinewidth": 2
          }
         }
        },
        "title": {
         "text": "Trustworthiness of Ads by Age Group"
        },
        "xaxis": {
         "anchor": "y",
         "categoryarray": [
          "Below 18",
          "18 - 36",
          "37 - 54",
          "Above 55"
         ],
         "categoryorder": "array",
         "domain": [
          0,
          1
         ],
         "title": {
          "text": "Age Group"
         }
        },
        "yaxis": {
         "anchor": "x",
         "domain": [
          0,
          1
         ],
         "title": {
          "text": "Trust Level"
         }
        }
       }
      }
     },
     "metadata": {},
     "output_type": "display_data"
    }
   ],
   "source": [
    "age_group_order = [\"Below 18\", \"18 - 36\", \"37 - 54\", \"Above 55\"]\n",
    "\n",
    "fig7 = px.box(df, \n",
    "              x=\"age_group\", \n",
    "              y=\"trustworthiness_of_social_media_ads\", \n",
    "              title=\"Trustworthiness of Ads by Age Group\",\n",
    "              labels={\"age_group\": \"Age Group\", \n",
    "                      \"trustworthiness_of_social_media_ads\": \"Trust Level\"},\n",
    "              category_orders={\"age_group\": age_group_order})\n",
    "fig7.show()"
   ]
  },
  {
   "cell_type": "markdown",
   "metadata": {},
   "source": [
    "### **Discussion** ###\n",
    "**Younger Users (Below 18) Trust Ads More:**\n",
    "The median trust level is higher than other age groups, around 3 to 4. The interquartile range (IQR) is wider, indicating varying opinions within this group. Some users even rated trustworthiness at the highest level (5).\n",
    "\n",
    "**Middle Age Groups (18-36, 37-54) Show Skepticism:**\n",
    "Their median trust levels are lower (around 2 to 3). The IQR is narrower, meaning most individuals in this range have similar views on ad trustworthiness. A few outliers suggest that some people trust ads more than their peers.\n",
    "\n",
    "**Older Adults (Above 55) Have the Lowest Trust in Ads:**\n",
    "The median trust level is around 2, showing significant skepticism. The IQR extends from 1 to 3, meaning most users in this group rate ad trustworthiness quite low. There are no extreme outliers, suggesting a general consensus among older users."
   ]
  },
  {
   "cell_type": "markdown",
   "metadata": {},
   "source": [
    "#### **6. Most Frequent Social Media Platforms**"
   ]
  },
  {
   "cell_type": "code",
   "execution_count": 26,
   "metadata": {},
   "outputs": [
    {
     "data": {
      "image/png": "[encoded data removed]",
      "text/plain": [
       "<Figure size 1200x600 with 1 Axes>"
      ]
     },
     "metadata": {},
     "output_type": "display_data"
    }
   ],
   "source": [
    "\n",
    "# Set a modern theme\n",
    "sns.set_theme(style=\"whitegrid\")\n",
    "\n",
    "# Create the figure and axis\n",
    "plt.figure(figsize=(12, 6))\n",
    "\n",
    "# Create the countplot with enhanced aesthetics\n",
    "sns.countplot(\n",
    "    data=bootstrapped_df, \n",
    "    x='most_frequent_platform', \n",
    "    order=bootstrapped_df['most_frequent_platform'].value_counts().index,\n",
    "    palette='magma',  # Try 'crest' or 'pastel' for different vibes\n",
    "    edgecolor='black'  # Adds a clean border to the bars\n",
    ")\n",
    "\n",
    "# Customize labels and title\n",
    "plt.xticks(rotation=45, fontsize=12, ha='right')  # Rotate x-axis labels for readability\n",
    "plt.xlabel('Social Media Platform', fontsize=14, fontweight='bold')\n",
    "plt.ylabel('Count', fontsize=14, fontweight='bold')\n",
    "plt.title('Most Frequent Social Media Platforms', fontsize=16, fontweight='bold')\n",
    "\n",
    "# Remove top and right borders for a cleaner look\n",
    "sns.despine()\n",
    "\n",
    "# Show the plot\n",
    "plt.show()"
   ]
  },
  {
   "cell_type": "markdown",
   "metadata": {},
   "source": [
    "### **Discussion** ###\n",
    "\n",
    "The graphs here show the most frequently used social media platforms. The x-axis represents different platforms, including YouTube, Instagram, Facebook, and others, while the y-axis shows the count of users for each platform. YouTube and Instagram seem to be the most popular platforms, with a significant number of users, followed by Facebook, while platforms like Twitter and TikTok are used much less frequently.\n",
    "\n",
    "From these visualizations, it's clear that YouTube and Instagram dominate social media usage in this dataset, with Facebook also being widely used. Platforms like Snapchat, Reddit, and LinkedIn have moderate usage, while TikTok, Twitter, and WhatsApp appear to be the least frequent among the given options. This data could help in understanding platform preference for different marketing or content strategies."
   ]
  },
  {
   "cell_type": "markdown",
   "metadata": {},
   "source": [
    "#### **7. Purchasing trends across social media user vs Social media hours per day**"
   ]
  },
  {
   "cell_type": "code",
   "execution_count": 27,
   "metadata": {},
   "outputs": [
    {
     "data": {
      "image/png": "[encoded data removed]",
      "text/plain": [
       "<Figure size 1000x600 with 2 Axes>"
      ]
     },
     "metadata": {},
     "output_type": "display_data"
    }
   ],
   "source": [
    "import seaborn as sns\n",
    "import matplotlib.pyplot as plt\n",
    "import pandas as pd\n",
    "\n",
    "# Define the custom order for the y-axis labels\n",
    "y_order = ['Less than 1 hour', '1 - 4 hours', '4 - 7 hours', 'More than 7 hours']\n",
    "df[\"purchased_after_seeing_on_social_media\"] = df[\"purchased_after_seeing_on_social_media\"].astype(str)\n",
    "# Ensure 'social_media_hours_per_day' is a categorical variable with the specified order\n",
    "bootstrapped_df['social_media_hours_per_day'] = pd.Categorical(\n",
    "    bootstrapped_df['social_media_hours_per_day'], categories=y_order, ordered=True\n",
    ")\n",
    "\n",
    "# Create pivot table with the correct indexing for rows and columns\n",
    "heatmap_data = df.pivot_table(\n",
    "    index=\"social_media_hours_per_day\", \n",
    "    columns=\"purchased_after_seeing_on_social_media\", \n",
    "    aggfunc=\"size\", \n",
    "    fill_value=0\n",
    ")\n",
    "\n",
    "# Create heatmap\n",
    "plt.figure(figsize=(10, 6))\n",
    "sns.heatmap(heatmap_data, cmap=\"PuOr\", annot=True, fmt=\"d\", linewidths=0.5)\n",
    "plt.title(\"Purchasing Trends Across Social Media Usage\")\n",
    "plt.xlabel(\"Purchase Frequency\")\n",
    "plt.ylabel(\"Social media hours per day\")\n",
    "plt.show()\n"
   ]
  },
  {
   "cell_type": "markdown",
   "metadata": {},
   "source": [
    "### **Discussion** ###\n",
    "\n",
    "The heatmap shows purchasing trends based on social media usage. The x-axis represents purchase frequency (0, 1-2, 3-5, 6-10), while the y-axis shows daily social media hours (<1 hour, 1-4 hours, 4-7 hours). Darker shades indicate higher counts, with most users in the \"1-4 hours\" group making 1-2 purchases.\n",
    "\n",
    "Users spending \"1-4 hours\" on social media tend to purchase more, likely due to optimal ad exposure. Both heavy (4-7 hours) and light (<1 hour) users show lower purchase activity. Higher purchase categories (3-5, 6-10) are rare, suggesting frequent buying from social media is uncommon."
   ]
  },
  {
   "cell_type": "markdown",
   "metadata": {},
   "source": [
    "## **Guiding Questions** ##\n"
   ]
  },
  {
   "cell_type": "markdown",
   "metadata": {},
   "source": [
    "### **1. Estimating Population Parameters​**"
   ]
  },
  {
   "cell_type": "markdown",
   "metadata": {},
   "source": [
    "The focus of this analysis is to estimate the population mean, variance, and their confidence intervals (CI) using **Simple Random Sampling (SRS)** and **Stratified Sampling**. Stratified sampling is particularly useful to ensure that different subgroups within the population are represented, which helps reduce bias and provides more accurate estimates.\n",
    "\n",
    "- **Population Size**: ~35,000  \n",
    "- **Sample Size**: 92 (after stratification)\n",
    "\n",
    "The key metric we are estimating is the **average number of purchases influenced by social media** for specific subgroups within the population. This allows us to understand how social media impacts consumer behavior across various demographics.\n",
    "\n",
    "By focusing on these estimates, we aim to gain insights into the **variability in purchasing behavior** across different demographics, helping to better understand how purchasing decisions are influenced by social media in diverse groups.\n"
   ]
  },
  {
   "cell_type": "code",
   "execution_count": 28,
   "metadata": {},
   "outputs": [],
   "source": [
    "def convert_purchases(value):\n",
    "    if value == '0':\n",
    "        return 0\n",
    "    elif value == '1-2':\n",
    "        return 1\n",
    "    elif value == '3-5':\n",
    "        return 3\n",
    "    elif value == '6-10':\n",
    "        return 6\n",
    "    elif value == 'More than 10':\n",
    "        return 10\n",
    "    else:\n",
    "        return 0  # Handle any unexpected values\n",
    "\n",
    "# Apply the conversion function to the 'purchased_after_seeing_on_social_media' column\n",
    "df_original['purchased_numeric'] = df_original['How many times in the past month have you purchased a product after seeing it on social media?'].apply(convert_purchases)"
   ]
  },
  {
   "cell_type": "markdown",
   "metadata": {},
   "source": [
    "The convert_purchases function is designed to convert categorical responses about the number of purchases made after seeing a product on social media into numeric values. This conversion simplifies the data for analysis by transforming text-based categories into quantifiable numbers"
   ]
  },
  {
   "cell_type": "code",
   "execution_count": 29,
   "metadata": {},
   "outputs": [
    {
     "name": "stdout",
     "output_type": "stream",
     "text": [
      "Estimated Population Mean: 0.65\n",
      "Estimated Population Variance: 0.76\n"
     ]
    }
   ],
   "source": [
    "# Estimate overall population mean and variance from the sample\n",
    "population_mean = df_original['purchased_numeric'].mean()\n",
    "population_variance = df_original['purchased_numeric'].var(ddof=1)  # Sample variance (unbiased estimate)\n",
    "\n",
    "print(f\"Estimated Population Mean: {population_mean:.2f}\")\n",
    "print(f\"Estimated Population Variance: {population_variance:.2f}\")\n"
   ]
  },
  {
   "cell_type": "code",
   "execution_count": 30,
   "metadata": {},
   "outputs": [
    {
     "name": "stdout",
     "output_type": "stream",
     "text": [
      "95% CI for Population Mean: (0.50, 0.81)\n"
     ]
    }
   ],
   "source": [
    "N = 35000  # Assume total population size\n",
    "n = len(df_original)\n",
    "\n",
    "SE_corrected = (df_original['purchased_numeric'].std(ddof=1) / np.sqrt(n)) * np.sqrt((N - n) / (N - 1))\n",
    "\n",
    "# 95% Confidence Interval for Population Mean\n",
    "z_critical = 1.96  # For 95% CI (normal approximation)\n",
    "ci_lower = population_mean - z_critical * SE_corrected\n",
    "ci_upper = population_mean + z_critical * SE_corrected\n",
    "\n",
    "print(f\"95% CI for Population Mean: ({ci_lower:.2f}, {ci_upper:.2f})\")"
   ]
  },
  {
   "cell_type": "markdown",
   "metadata": {},
   "source": [
    "**Population Parameters Interpretation using `SRS`**\n",
    "\n",
    "- **Population Mean:** The estimated average number of purchases made after seeing products on social media is 0.85 per month.\n",
    "- **Population Variance:** The variance of 0.76 indicates moderate variability in purchasing behavior.\n",
    "- **95% Confidence Interval:** The true population mean is estimated to lie between 0.50 and 0.81 with 95% confidence.\n",
    "\n",
    "**Implication:**\n",
    "Social media has a modest but measurable influence on purchasing decisions, with most individuals making 0 to 1 purchase per month influenced by social media."
   ]
  },
  {
   "cell_type": "markdown",
   "metadata": {},
   "source": [
    "**Using Stratified Sample**"
   ]
  },
  {
   "cell_type": "code",
   "execution_count": 31,
   "metadata": {},
   "outputs": [
    {
     "name": "stdout",
     "output_type": "stream",
     "text": [
      "\n",
      "Stratified Mean and Variance:\n",
      "                      mean       var  count\n",
      "age_group gender                           \n",
      "18 - 36   Female  0.545455  0.272727     11\n",
      "          Male    1.000000  2.727273     12\n",
      "37 - 54   Female  0.526316  0.596491     19\n",
      "          Male    0.500000  0.333333      4\n",
      "Above 55  Female  0.333333  1.000000      9\n",
      "          Male    2.071429  4.994505     14\n",
      "Below 18  Female  1.500000  1.909091     12\n",
      "          Male    0.818182  0.763636     11\n"
     ]
    }
   ],
   "source": [
    "data=df.copy()\n",
    "\n",
    "# Apply the conversion function to the 'purchased_after_seeing_on_social_media' column\n",
    "data['purchased_numeric'] = data['purchased_after_seeing_on_social_media'].apply(convert_purchases)\n",
    "\n",
    "# Group data by 'age_group' and 'gender', then calculate mean, variance, and sample count\n",
    "grouped_data = data.groupby(['age_group', 'gender'])['purchased_numeric'].agg(['mean', 'var', 'count'])\n",
    "print(\"\\nStratified Mean and Variance:\")\n",
    "print(grouped_data)"
   ]
  },
  {
   "cell_type": "code",
   "execution_count": 32,
   "metadata": {},
   "outputs": [
    {
     "name": "stdout",
     "output_type": "stream",
     "text": [
      "Total Population Size: 35000\n",
      "\n",
      "Confidence Intervals for Each Stratified Group with FPC:\n",
      "                      mean  ci_lower_fpc  ci_upper_fpc\n",
      "age_group gender                                      \n",
      "18 - 36   Female  0.545455      0.236879      0.854030\n",
      "          Male    1.000000      0.065754      1.934246\n",
      "37 - 54   Female  0.526316      0.179124      0.873508\n",
      "          Male    0.500000     -0.065779      1.065779\n",
      "Above 55  Female  0.333333     -0.319925      0.986592\n",
      "          Male    2.071429      0.900966      3.241891\n",
      "Below 18  Female  1.500000      0.718353      2.281647\n",
      "          Male    0.818182      0.301836      1.334528\n"
     ]
    }
   ],
   "source": [
    "# Assume total population size\n",
    "N = 35000\n",
    "print(\"Total Population Size:\", N)\n",
    " \n",
    "# Apply FPC adjustment for each stratified group\n",
    "grouped_data['SE_corrected'] = (np.sqrt(grouped_data['var']) / np.sqrt(grouped_data['count'])) * np.sqrt((N - grouped_data['count']) / (N - 1))\n",
    " \n",
    "# Recalculate Confidence Intervals with FPC\n",
    "grouped_data['ci_lower_fpc'] = grouped_data['mean'] - 1.96 * grouped_data['SE_corrected']\n",
    "grouped_data['ci_upper_fpc'] = grouped_data['mean'] + 1.96 * grouped_data['SE_corrected']\n",
    " \n",
    "print(\"\\nConfidence Intervals for Each Stratified Group with FPC:\")\n",
    "print(grouped_data[['mean', 'ci_lower_fpc', 'ci_upper_fpc']])\n",
    " "
   ]
  },
  {
   "cell_type": "code",
   "execution_count": 33,
   "metadata": {},
   "outputs": [
    {
     "name": "stdout",
     "output_type": "stream",
     "text": [
      "\n",
      "Estimated mean of purchase frequency (Stratified Proportional Allocation): 0.91\n",
      "Estimated variance of purchase frequency (Stratified Proportional Allocation): 0.02\n",
      "Estimated standard Error of purchase frequency (Stratified Proportional Allocation): 0.13\n"
     ]
    }
   ],
   "source": [
    "# Calculate the overall mean\n",
    "overall_mean = grouped_data[\"mean\"].mean()\n",
    " \n",
    "# Variance of y-bar\n",
    "V_y_hat = np.sum((1 - grouped_data['count'] / 4375) * (4375 / N)**2 * grouped_data['var'] / grouped_data['count']) \n",
    "\n",
    "# Standard error of y-bar\n",
    "SE_y_hat = np.sqrt(V_y_hat)\n",
    " \n",
    "print(f\"\\nEstimated mean of purchase frequency (Stratified Proportional Allocation): {overall_mean:.2f}\")\n",
    "print(f\"Estimated variance of purchase frequency (Stratified Proportional Allocation): {V_y_hat:.2f}\")\n",
    "print(f\"Estimated standard Error of purchase frequency (Stratified Proportional Allocation): {SE_y_hat:.2f}\")"
   ]
  },
  {
   "cell_type": "markdown",
   "metadata": {},
   "source": [
    "**Stratified Group Analysis:**\n",
    "\n",
    "**18 - 36:**\n",
    "- Females: On average, females in this group purchase about half a product per month after seeing it on social media. This suggests 1 purchase every 2 months.\n",
    "- Males: Males in this group purchase 1 product per month on average, indicating they are twice as likely as females to make a purchase influenced by social media.\n",
    "\n",
    "**37 - 54:**\n",
    "- Females: Females in this group purchase about half a product per month, similar to younger females, suggesting consistent behavior across age groups.\n",
    "- Males: Males in this group also purchase about half a product per month, showing no significant difference compared to females in the same age group.\n",
    "\n",
    "**Above 55:**\n",
    "- Females: Females in this group purchase about one-third of a product per month, indicating 1 purchase every 3 months. This suggests lower engagement with social media-driven purchases.\n",
    "- Males: Males in this group purchase 2 products per month on average, making them the most influenced demographic. This could indicate higher trust in social media ads or greater disposable income.\n",
    "\n",
    "**Below 18:**\n",
    "- Females: Females in this group purchase 1.5 products per month, the highest among all female groups. This suggests younger females are highly influenced by social media trends.\n",
    "- Males: Males in this group purchase 0.8 products per month, indicating 1 purchase every 1.25 months. While lower than females in the same group, they are still more influenced than older males."
   ]
  },
  {
   "cell_type": "markdown",
   "metadata": {},
   "source": [
    "**Confidence Intervals:** The 95% confidence intervals for each group indicate the range within which the true mean likely falls. For example, males Above 55 have a mean between 0.90 and 3.24 purchases, showing significant variability.\n",
    "\n",
    "**Overall Population Estimates:**\n",
    "- Mean Purchase Frequency: 0.91 purchases per month.\n",
    "- Variance: 0.02, indicating low variability in the overall population.\n",
    "- Standard Error: 0.13, suggesting high precision in the estimate."
   ]
  },
  {
   "cell_type": "markdown",
   "metadata": {},
   "source": [
    "### **2. Impact of Social Media Usage, Age Group, and Platform on Unplanned Purchases**"
   ]
  },
  {
   "cell_type": "markdown",
   "metadata": {},
   "source": [
    "In this analysis, we aim to explore the impact of **social media usage**, **age group**, and **platform** on the likelihood of making **unplanned purchases**. Specifically, we want to understand how these factors influence consumer behavior in terms of impulsive buying decisions.\n",
    "\n",
    "The dependent variable in this study is **unplanned purchases after seeing a product on social media**, which is an ordinal variable with categories such as \n",
    "- \"Never\"\n",
    "- \"Rarely\"\n",
    "- \"Occasionally\"\n",
    "- \"Frequently\"\n",
    "- \"Always\" \n",
    "\n",
    "The primary predictors include:  \n",
    "\n",
    "- **Social Media Usage** (measured in hours per day: `\"Less than 1 hour\"`, `\"1–3 hours\"`, `\"4–6 hours\"`, `\"7–9 hours\"`, `\"10+ hours\"`)\n",
    "- **Age Group** (e.g., `\"18–36\"`, `\"37–54\"`, `\"Above 55\"`)\n",
    "- **Platform** (how often ads are seen: `\"Instagram\"`, `\"Youtube\"`, `\"Twitter\"`, etc.)\n",
    "\n",
    "The goal is to determine whether **social media usage**, **age group**, and **platform** have a significant effect on the likelihood of making unplanned purchases after seeing a product on social media. By understanding these relationships, we can provide insights into how social media usage and other demographic factors drive impulsive purchasing behavior.\n"
   ]
  },
  {
   "cell_type": "markdown",
   "metadata": {},
   "source": [
    "#### **Likelihood Ratio Test**\n",
    "\n",
    "To assess the significance of the predictors, we will perform a **Likelihood Ratio Test** (LRT) to compare the reduced and full models. The test will evaluate if adding `social_media_usage`, `age_group`, and `most_frequent_platform` significantly improves the model’s fit.\n",
    "\n",
    "- L0: Log-likelihood of the **reduced model** (without the predictors).\n",
    "- L1: Log-likelihood of the **full model** (with the predictors).\n",
    "\n",
    "The LRT will help us determine whether the addition of these factors significantly improves the model's ability to explain unplanned purchases."
   ]
  },
  {
   "cell_type": "markdown",
   "metadata": {},
   "source": [
    "#### **Hypothesis 1**\n",
    "\n",
    "- **Null Hypothesis (H0)**:  \n",
    "  There is no significant relationship between **social media usage** and unplanned purchases after seeing products on social media.\n",
    "\n",
    "- **Alternative Hypothesis (H1)**:  \n",
    "  Social media usage significantly influences unplanned purchases after seeing products on social media."
   ]
  },
  {
   "cell_type": "code",
   "execution_count": 34,
   "metadata": {},
   "outputs": [],
   "source": [
    "df_1 = df.copy()\n",
    "# Select relevant columns\n",
    "df_1 = df_1[['social_media_hours_per_day', 'unplanned_purchases_after_social_media']]\n",
    "\n",
    "# Convert categorical variables to ordered numeric values\n",
    "social_media_mapping = {\n",
    "    \"Less than 1 hour\": 0,\n",
    "    \"1 - 4 hours\": 1,\n",
    "    \"4 - 7 hours\": 2,\n",
    "    \"More than 7 hours\": 3\n",
    "}\n",
    "\n",
    "purchases_mapping = {\n",
    "    \"Never\": 1,\n",
    "    \"Rarely\": 2,\n",
    "    \"Occasionally\": 3,\n",
    "    \"Frequently\": 4,\n",
    "    \"Always\": 5\n",
    "}\n",
    "\n",
    "df_1['social_media_hours_per_day'] = df_1['social_media_hours_per_day'].map(social_media_mapping)\n",
    "df_1['unplanned_purchases_after_social_media'] = df_1['unplanned_purchases_after_social_media'].map(purchases_mapping)\n",
    "\n",
    "# Drop NaN values\n",
    "df_1.dropna(inplace=True)\n"
   ]
  },
  {
   "cell_type": "code",
   "execution_count": 35,
   "metadata": {},
   "outputs": [
    {
     "name": "stdout",
     "output_type": "stream",
     "text": [
      "Optimization terminated successfully.\n",
      "         Current function value: 1.090785\n",
      "         Iterations 7\n",
      "Optimization terminated successfully.\n",
      "         Current function value: 0.953934\n",
      "         Iterations 8\n"
     ]
    }
   ],
   "source": [
    "# Fit the reduced model (without social media usage)\n",
    "reduced_model = smf.mnlogit(\"unplanned_purchases_after_social_media ~ 1\", data=df_1).fit()\n",
    "\n",
    "# Fit the full model (with social media usage)\n",
    "full_model = smf.mnlogit(\"unplanned_purchases_after_social_media ~ social_media_hours_per_day\", data=df_1).fit()\n",
    "\n",
    "# Likelihood Ratio Test\n",
    "L0 = reduced_model.llf \n",
    "L1 = full_model.llf\n",
    "\n",
    "D = -2 * (L0 - L1)  # LRT statistic\n",
    "df_diff = full_model.df_model - reduced_model.df_model  # Degrees of freedom difference\n",
    "\n",
    "p_value = chi2.sf(D, df_diff)"
   ]
  },
  {
   "cell_type": "code",
   "execution_count": 36,
   "metadata": {},
   "outputs": [
    {
     "name": "stdout",
     "output_type": "stream",
     "text": [
      "LRT Statistic: 25.1805\n",
      "Degrees of Freedom: 3.0\n",
      "p-value: 0.0000\n",
      "Reject the null hypothesis: Social media usage frequency significantly affects unplanned purchases.\n"
     ]
    }
   ],
   "source": [
    "print(f\"LRT Statistic: {D:.4f}\")\n",
    "print(f\"Degrees of Freedom: {df_diff}\")\n",
    "print(f\"p-value: {p_value:.4f}\")\n",
    "\n",
    "if p_value < 0.05:\n",
    "    print(\"Reject the null hypothesis: Social media usage frequency significantly affects unplanned purchases.\")\n",
    "else:\n",
    "    print(\"Fail to reject the null hypothesis: No significant effect of social media usage frequency on unplanned purchases.\")"
   ]
  },
  {
   "cell_type": "markdown",
   "metadata": {},
   "source": [
    "The Likelihood Ratio Test (LRT) statistic is **25.1805** with **3 degrees of freedom**, and the resulting **p-value is 0.0000**. Since the p-value is significantly lower than the common significance level of 0.05, we reject the null hypothesis.\n",
    "\n",
    "**Conclusion**: Social media usage frequency significantly affects unplanned purchases after seeing products on social media."
   ]
  },
  {
   "cell_type": "markdown",
   "metadata": {},
   "source": [
    "#### **Hypothesis 2**\n",
    "\n",
    "- **Null Hypothesis (H0)**:  \n",
    "  There is no significant relationship between **age group** and unplanned purchases after seeing products on social media.\n",
    "\n",
    "- **Alternative Hypothesis (H1)**:  \n",
    "  Age group significantly influences unplanned purchases after seeing products on social media."
   ]
  },
  {
   "cell_type": "code",
   "execution_count": 37,
   "metadata": {},
   "outputs": [
    {
     "name": "stdout",
     "output_type": "stream",
     "text": [
      "['Never' 'Rarely' 'Occasionally' 'Frequently']\n"
     ]
    }
   ],
   "source": [
    "df_2=df.copy()\n",
    "\n",
    "# Encode age_group as a categorical variable\n",
    "age_group_mapping = {\n",
    "    \"Below 18\": 0,\n",
    "    \"18 - 36\": 1,\n",
    "    \"37 - 54\": 2,\n",
    "    \"Above 55\": 3\n",
    "}\n",
    "\n",
    "df_2['age_group'] = df_2['age_group'].map(age_group_mapping)\n",
    "\n",
    "# Check unique values for unplanned_purchases_after_social_media to ensure it's categorical\n",
    "print(df_2['unplanned_purchases_after_social_media'].unique())\n",
    "\n",
    "# Convert unplanned_purchases_after_social_media to numeric values if needed\n",
    "purchases_mapping = {\n",
    "    \"Never\": 1,\n",
    "    \"Rarely\": 2,\n",
    "    \"Occasionally\": 3,\n",
    "    \"Frequently\": 4,\n",
    "    \"Always\": 5\n",
    "}\n",
    "\n",
    "df_2['unplanned_purchases_after_social_media'] = df_2['unplanned_purchases_after_social_media'].map(purchases_mapping)\n",
    "df_2.dropna(inplace=True)"
   ]
  },
  {
   "cell_type": "code",
   "execution_count": 38,
   "metadata": {},
   "outputs": [
    {
     "name": "stdout",
     "output_type": "stream",
     "text": [
      "Optimization terminated successfully.\n",
      "         Current function value: 1.090785\n",
      "         Iterations 7\n",
      "Warning: Maximum number of iterations has been exceeded.\n",
      "         Current function value: 1.018325\n",
      "         Iterations: 35\n"
     ]
    }
   ],
   "source": [
    "# Fit the reduced model (without age_group)\n",
    "reduced_model = smf.mnlogit(\"unplanned_purchases_after_social_media ~ 1\", data=df_2).fit()\n",
    "\n",
    "# Fit the full model (with age_group)\n",
    "full_model = smf.mnlogit(\"unplanned_purchases_after_social_media ~ age_group\", data=df_2).fit()\n",
    "\n",
    "# Likelihood Ratio Test\n",
    "L0 = reduced_model.llf\n",
    "L1 = full_model.llf\n",
    "\n",
    "D = -2 * (L0 - L1)\n",
    "df_diff = full_model.df_model - reduced_model.df_model\n",
    "\n",
    "p_value = chi2.sf(D, df_diff)"
   ]
  },
  {
   "cell_type": "code",
   "execution_count": 39,
   "metadata": {},
   "outputs": [
    {
     "name": "stdout",
     "output_type": "stream",
     "text": [
      "LRT Statistic: 13.3326\n",
      "Degrees of Freedom: 3.0\n",
      "p-value: 0.0040\n",
      "Reject the null hypothesis: Age group significantly affects unplanned purchases.\n"
     ]
    }
   ],
   "source": [
    "print(f\"LRT Statistic: {D:.4f}\")\n",
    "print(f\"Degrees of Freedom: {df_diff}\")\n",
    "print(f\"p-value: {p_value:.4f}\")\n",
    "\n",
    "if p_value < 0.05:\n",
    "    print(\"Reject the null hypothesis: Age group significantly affects unplanned purchases.\")\n",
    "else:\n",
    "    print(\"Fail to reject the null hypothesis: No significant effect of age group on unplanned purchases.\")\n"
   ]
  },
  {
   "cell_type": "markdown",
   "metadata": {},
   "source": [
    "The Likelihood Ratio Test (LRT) statistic is **13.3326** with **3 degrees of freedom**, and the resulting **p-value is 0.0040**. Since the p-value is less than the common significance level of 0.05, we reject the null hypothesis.\n",
    "\n",
    "**Conclusion:** \n",
    "Age group significantly affects unplanned purchases after seeing products on social media."
   ]
  },
  {
   "cell_type": "markdown",
   "metadata": {},
   "source": [
    "#### **Hypothesis 3**\n",
    "\n",
    "- **Null Hypothesis (H0)**:  \n",
    "  There is no significant relationship between **most_frequent_platform** and unplanned purchases after seeing products on social media.\n",
    "\n",
    "- **Alternative Hypothesis (H1)**:  \n",
    "  Most Frequent Platform frequency significantly influences unplanned purchases after seeing products on social media."
   ]
  },
  {
   "cell_type": "code",
   "execution_count": 40,
   "metadata": {},
   "outputs": [
    {
     "data": {
      "text/plain": [
       "most_frequent_platform\n",
       "youtube      34\n",
       "instagram    34\n",
       "facebook     12\n",
       "snapchat      3\n",
       "twitter       3\n",
       "linkedin      2\n",
       "reddit        1\n",
       "whatsapp      1\n",
       "tiktok        1\n",
       "snapchat      1\n",
       "Name: count, dtype: int64"
      ]
     },
     "execution_count": 40,
     "metadata": {},
     "output_type": "execute_result"
    }
   ],
   "source": [
    "df['most_frequent_platform'].value_counts()"
   ]
  },
  {
   "cell_type": "markdown",
   "metadata": {},
   "source": [
    "Combine platforms with very few observations into a single category (e.g., Other)."
   ]
  },
  {
   "cell_type": "code",
   "execution_count": 41,
   "metadata": {},
   "outputs": [
    {
     "name": "stdout",
     "output_type": "stream",
     "text": [
      "most_frequent_platform\n",
      "youtube      34\n",
      "instagram    34\n",
      "facebook     12\n",
      "Other        12\n",
      "Name: count, dtype: int64\n"
     ]
    }
   ],
   "source": [
    "df_3=df.copy()\n",
    "platform_counts = df_3['most_frequent_platform'].value_counts()\n",
    "rare_platforms = platform_counts[platform_counts < 5].index  # Platforms with fewer than 5 observations\n",
    "df_3['most_frequent_platform'] = df_3['most_frequent_platform'].replace(rare_platforms, 'Other')\n",
    "print(df_3['most_frequent_platform'].value_counts())"
   ]
  },
  {
   "cell_type": "markdown",
   "metadata": {},
   "source": [
    "Convert the platform names into numerical codes for modeling."
   ]
  },
  {
   "cell_type": "code",
   "execution_count": 42,
   "metadata": {},
   "outputs": [
    {
     "name": "stdout",
     "output_type": "stream",
     "text": [
      "most_frequent_platform\n",
      "1    34\n",
      "0    34\n",
      "2    12\n",
      "3    12\n",
      "Name: count, dtype: int64\n"
     ]
    }
   ],
   "source": [
    "platform_mapping = {\n",
    "    \"instagram\": 0,\n",
    "    \"youtube\": 1,\n",
    "    \"facebook\": 2,\n",
    "    \"Other\": 3\n",
    "}\n",
    "df_3['most_frequent_platform'] = df_3['most_frequent_platform'].map(platform_mapping)\n",
    "print(df_3['most_frequent_platform'].value_counts())"
   ]
  },
  {
   "cell_type": "code",
   "execution_count": 43,
   "metadata": {},
   "outputs": [
    {
     "name": "stdout",
     "output_type": "stream",
     "text": [
      "unplanned_purchases_after_social_media\n",
      "2    49\n",
      "1    26\n",
      "3    14\n",
      "4     3\n",
      "Name: count, dtype: int64\n"
     ]
    }
   ],
   "source": [
    "purchases_mapping = {\n",
    "    \"Never\": 1,\n",
    "    \"Rarely\": 2,\n",
    "    \"Occasionally\": 3,\n",
    "    \"Frequently\": 4,\n",
    "    \"Always\": 5\n",
    "}\n",
    "df_3['unplanned_purchases_after_social_media'] = df_3['unplanned_purchases_after_social_media'].map(purchases_mapping)\n",
    "print(df_3['unplanned_purchases_after_social_media'].value_counts())\n",
    "\n",
    "df_3.dropna(inplace=True)"
   ]
  },
  {
   "cell_type": "code",
   "execution_count": 44,
   "metadata": {},
   "outputs": [
    {
     "name": "stdout",
     "output_type": "stream",
     "text": [
      "Optimization terminated successfully.\n",
      "         Current function value: 1.090785\n",
      "         Iterations 7\n"
     ]
    },
    {
     "name": "stdout",
     "output_type": "stream",
     "text": [
      "Optimization terminated successfully.\n",
      "         Current function value: 0.985016\n",
      "         Iterations: 44\n",
      "         Function evaluations: 45\n",
      "         Gradient evaluations: 45\n",
      "Likelihood Ratio Test Statistic: 19.4614\n",
      "p-value: 0.0002\n",
      "Reject the null hypothesis: Platform significantly affects unplanned purchases.\n"
     ]
    }
   ],
   "source": [
    "reduced_model = smf.mnlogit(\"unplanned_purchases_after_social_media ~ 1\", data=df_3).fit()\n",
    "full_model = smf.mnlogit(\"unplanned_purchases_after_social_media ~ most_frequent_platform\", data=df_3).fit(\n",
    "    maxiter=500, method='bfgs'\n",
    ")\n",
    "\n",
    "L0 = reduced_model.llf\n",
    "L1 = full_model.llf\n",
    "\n",
    "D = -2 * (L0 - L1)\n",
    "df_diff = full_model.df_model - reduced_model.df_model\n",
    "\n",
    "p_value = chi2.sf(D, df_diff)\n",
    "\n",
    "print(f\"Likelihood Ratio Test Statistic: {D:.4f}\")\n",
    "print(f\"p-value: {p_value:.4f}\")\n",
    "\n",
    "if p_value < 0.05:\n",
    "    print(\"Reject the null hypothesis: Platform significantly affects unplanned purchases.\")\n",
    "else:\n",
    "    print(\"Fail to reject the null hypothesis: No significant effect of platform on unplanned purchases.\")"
   ]
  },
  {
   "cell_type": "markdown",
   "metadata": {},
   "source": [
    "The Likelihood Ratio Test (LRT) statistic is **19.4614** with **3 degrees of freedom**, and the resulting **p-value is 0.0002**. Since the p-value is significantly less than the common significance level of 0.05, we reject the null hypothesis.\n",
    "\n",
    "**Conclusion:**\n",
    "The most frequent platform used significantly affects unplanned purchases after seeing products on social media."
   ]
  },
  {
   "cell_type": "markdown",
   "metadata": {},
   "source": [
    "### **3. Predicting consumer spending using social media factors**"
   ]
  },
  {
   "cell_type": "markdown",
   "metadata": {},
   "source": [
    "In this analysis, we aim to predict consumer spending behavior using various social media-related factors. The target variable for prediction is whether social media increases spending, denoted as `social_media_increases_spending`. The key predictor variables include:\n",
    "\n",
    "- **content_type_influences_purchasing**: Indicates the impact of different content types on purchasing decisions.\n",
    "- **limited_time_offer_purchases**: Reflects the frequency of consumer purchases driven by limited-time offers encountered on social media.\n",
    "- **comparison_factor**: Represents the factors that influence the decision-making process when comparing products or services on social media.\n",
    "- **peer_influence_on_purchasing**: Measures how peer influence (e.g., recommendations or shared purchases) impacts purchasing decisions.\n",
    "- **trustworthiness_of_social_media_ads**: Assesses consumer trust in advertisements encountered on social media platforms.\n",
    "\n",
    "#### **Data Preparation**\n",
    "\n",
    "To prepare the data for training our predictive model, we employed **One-Hot Encoding** on the categorical predictor variables. This transformation converts categorical features into a numerical format that is suitable for use in regression models. Specifically, the `pd.get_dummies()` function was used with the `drop_first=True` argument to avoid **multicollinearity**—which occurs when there are redundant features that could distort model performance.\n",
    "\n",
    "By applying One-Hot Encoding, each categorical variable is expanded into multiple binary (0 or 1) columns, representing the different categories. This ensures that our model can learn from each individual factor without introducing unnecessary redundancy.\n"
   ]
  },
  {
   "cell_type": "markdown",
   "metadata": {},
   "source": [
    "#### **Model 1: Linear Regression**\n",
    "\n",
    "To begin our analysis, we tested a **Linear Regression** model to explore the relationship between the predictor variables and the target variable (`social_media_increases_spending`). The Linear Regression model was selected due to its simplicity and effectiveness in identifying linear relationships between the features and the target."
   ]
  },
  {
   "cell_type": "code",
   "execution_count": 45,
   "metadata": {},
   "outputs": [
    {
     "name": "stdout",
     "output_type": "stream",
     "text": [
      "R2 score: 0.5495285069904818\n",
      "Mean Squared Error: 0.5839907444001511\n"
     ]
    }
   ],
   "source": [
    "X = df[['content_type_influences_purchasing', \n",
    "        'limited_time_offer_purchases',\n",
    "        'comparison_factor',\n",
    "        'peer_influence_on_purchasing',\n",
    "        'trustworthiness_of_social_media_ads']]\n",
    "\n",
    "y = df['social_media_increases_spending']\n",
    "\n",
    "X_encoded = pd.get_dummies(X, drop_first=True)\n",
    "\n",
    "X_train, X_test, y_train, y_test = train_test_split(X_encoded, y, test_size=0.2, random_state=42)\n",
    "\n",
    "model = LinearRegression()\n",
    "model.fit(X_train, y_train)\n",
    "y_pred = model.predict(X_test)\n",
    "\n",
    "print(\"R2 score:\", r2_score(y_test, y_pred))\n",
    "print(\"Mean Squared Error:\", mean_squared_error(y_test, y_pred))"
   ]
  },
  {
   "cell_type": "markdown",
   "metadata": {},
   "source": [
    "#### **Model Performance**\n",
    "\n",
    "The performance of the Linear Regression model was evaluated using the following metrics:\n",
    "\n",
    "- **R2 Score**: 0.5495  \n",
    "  The R2 score indicates that approximately 54.95% of the variance in the target variable (`social_media_increases_spending`) can be explained by the predictor variables. This suggests a moderate fit, with room for improvement by exploring more complex models or additional features.\n",
    "\n",
    "- **Mean Squared Error (MSE)**: 0.584  \n",
    "  The MSE quantifies the average squared difference between the predicted values and the actual values. A lower MSE indicates a better fit, and this value of 0.584 provides an indication of the model's prediction accuracy. While not perfect, it suggests that the model is rea\n"
   ]
  },
  {
   "cell_type": "markdown",
   "metadata": {},
   "source": [
    "#### **Cross-Validation of the Linear Regression Model**\n",
    "\n",
    "To assess the stability and generalization performance of the Linear Regression model, we performed **cross-validation**. Cross-validation involves splitting the dataset into multiple subsets (or folds) and training the model on different combinations of these subsets. This helps ensure that the model's performance is not overly reliant on any specific subset of the data, providing a more robust estimate of its predictive ability.\n",
    "\n",
    "By performing cross-validation, we can:\n",
    "\n",
    "- Evaluate the consistency of the model's performance across different data splits.\n",
    "- Identify any potential issues such as overfitting or underfitting.\n",
    "- Ensure that the model generalizes well to unseen data, making it more reliable for real-world predictions.\n",
    "\n",
    "This step helps to verify the model's stability and provides a more comprehensive assessment of its predictive power beyond the initial evaluation metrics.\n"
   ]
  },
  {
   "cell_type": "code",
   "execution_count": 46,
   "metadata": {},
   "outputs": [
    {
     "name": "stdout",
     "output_type": "stream",
     "text": [
      "R2 scores for each fold: [ 0.50474292 -0.00891203  0.64863617  0.48683517  0.41121492]\n",
      "Average R2 from cross-validation: 0.4085\n"
     ]
    }
   ],
   "source": [
    "cv_scores_linear = cross_val_score(model, X_encoded, y, cv=5, scoring='r2')\n",
    "\n",
    "print(\"R2 scores for each fold:\", cv_scores_linear)\n",
    "print(f\"Average R2 from cross-validation: {np.mean(cv_scores_linear):.4f}\")"
   ]
  },
  {
   "cell_type": "markdown",
   "metadata": {},
   "source": [
    "#### **Cross-Validation Results**\n",
    "\n",
    "The **average R2 score** from cross-validation was **0.4085**, which is lower than the initial training R2 score of 0.5495. This difference suggests that the model's performance is not consistent across all subsets of the data, indicating variability in its ability to predict the target variable.\n",
    "\n",
    "A lower R2 score in cross-validation can imply that the model may be overfitting to the training data, capturing noise or specific patterns that don't generalize well to unseen data. This variability highlights the need for further model refinement, such as feature engineering, or exploring more complex algorithms to improve generalization and stability.\n"
   ]
  },
  {
   "cell_type": "markdown",
   "metadata": {},
   "source": [
    "#### **Model 2: Decision Tree Regressor**\n",
    "\n",
    "In the next phase of our analysis, we tested a **Decision Tree Regressor**. Unlike Linear Regression, the Decision Tree Regressor is a **non-linear** model that is capable of capturing more complex relationships between the predictor variables and the target variable (`social_media_increases_spending`). This model works by splitting the data into subsets based on the feature values, allowing it to model non-linear patterns more effectively."
   ]
  },
  {
   "cell_type": "code",
   "execution_count": 47,
   "metadata": {},
   "outputs": [
    {
     "name": "stdout",
     "output_type": "stream",
     "text": [
      "R2 score: 0.3504273504273505\n",
      "Mean Squared Error: 0.8421052631578947\n"
     ]
    }
   ],
   "source": [
    "dt_model = DecisionTreeRegressor(random_state=42)\n",
    "dt_model.fit(X_train, y_train)\n",
    "y_pred = dt_model.predict(X_test)\n",
    "\n",
    "print(\"R2 score:\", r2_score(y_test, y_pred))\n",
    "print(\"Mean Squared Error:\", mean_squared_error(y_test, y_pred))"
   ]
  },
  {
   "cell_type": "markdown",
   "metadata": {},
   "source": [
    "#### **Model Performance**\n",
    "\n",
    "The performance of the Decision Tree Regressor was evaluated using the following metrics:\n",
    "\n",
    "- **R2 Score**: 0.3504  \n",
    "  The R² score indicates that only about 35.04% of the variance in the target variable can be explained by the predictor variables. This is a relatively low value, suggesting that the model is not capturing as much of the underlying variance in the data as expected.\n",
    "\n",
    "- **Mean Squared Error (MSE)**: 0.8421  \n",
    "  The MSE is higher than the value from the Linear Regression model (0.584), which indicates that the Decision Tree Regressor is making larger errors in its predictions. This suggests that the model may be overfitting to certain patterns in the training data or not generalizing well to the validation data.\n",
    "\n",
    "Despite being able to model non-linear relationships, the Decision Tree Regressor performed less effectively than the Linear Regression model in this case. Further tuning of hyperparameters or exploring other models may improve its performance.\n"
   ]
  },
  {
   "cell_type": "markdown",
   "metadata": {},
   "source": [
    "**We also performed cross-validation on the decision tree model.**"
   ]
  },
  {
   "cell_type": "code",
   "execution_count": 48,
   "metadata": {},
   "outputs": [
    {
     "name": "stdout",
     "output_type": "stream",
     "text": [
      "R2 scores for each fold: [-0.16634273  0.08604336  0.41135972  0.55555556  0.55371901]\n",
      "Average R2 from cross-validation: 0.2881\n"
     ]
    }
   ],
   "source": [
    "cv_scores_dt = cross_val_score(dt_model, X_encoded, y, cv=5, scoring='r2')\n",
    "\n",
    "print(\"R2 scores for each fold:\", cv_scores_dt)\n",
    "print(f\"Average R2 from cross-validation: {np.mean(cv_scores_dt):.4f}\")"
   ]
  },
  {
   "cell_type": "markdown",
   "metadata": {},
   "source": [
    "#### **Model Comparison and Insights**\n",
    "\n",
    "Upon comparing the two models, the **Linear Regression model** proved to be more effective at predicting consumer spending based on social media factors. Despite its moderate performance, with an R2 score of 0.5495 on the training set, it still outperformed the Decision Tree model. However, when tested with cross-validation, the model's performance showed variability, indicating that it could benefit from further improvements in terms of generalization and stability.\n",
    "\n",
    "On the other hand, the **Decision Tree Regressor** performed worse than the Linear Regression model, with an R2 score of 0.3504 and a higher Mean Squared Error (MSE) of 0.8421. This suggests that the Decision Tree model was not well-suited for capturing the patterns in this particular dataset. It may have struggled to generalize well or could have been overfitting the data, leading to subpar predictive performance.\n",
    "\n",
    "In summary, while the Linear Regression model offered a better baseline, both models highlight the need for further refinement, such as hyperparameter tuning or exploring more advanced models, to improve prediction accuracy and generalization.\n"
   ]
  },
  {
   "cell_type": "markdown",
   "metadata": {},
   "source": [
    "### **4. Are influencer promotions more effective than brand advertisements in influencing purchases?​**"
   ]
  },
  {
   "cell_type": "markdown",
   "metadata": {},
   "source": [
    "The purpose of this analysis is to determine whether influencer promotions are more effective than brand advertisements in influencing purchase behavior. This involves examining the impact of various predictors, such as advertisements, peer reviews, influencer posts, detailed unsponsored reviews, brand posts, and discounts, on the frequency of purchases. By analyzing the correlation matrix, OLS regression results, and decision tree model, the study aims to identify the key factors that drive consumer purchases and compare the effectiveness of different marketing strategies. This information can help marketers optimize their campaigns, improve engagement, and increase conversion rates by leveraging the most influential content types.\n",
    "\n",
    "#### **Data Pre-Processing**\n",
    "- The `content_type_influences_purchasing` column was split into binary columns (0 or 1) for each content type.\n",
    "\n",
    "##### **Correlation Matrix of Key Variables**\n",
    "- **Purchase Frequency** is negatively correlated with **Advertisements** (-0.40) and **Brand Posts** (-0.15).\n",
    "- **Peer Reviews** have a positive correlation with Purchase Frequency (0.20).\n",
    "- **Influencer Posts** show a moderate positive correlation with Purchase Frequency (0.31).\n",
    "- **Detailed Unsponsored Reviews** and **Discounts** have weaker correlations."
   ]
  },
  {
   "cell_type": "code",
   "execution_count": 49,
   "metadata": {},
   "outputs": [
    {
     "data": {
      "image/png": "[encoded data removed]",
      "text/plain": [
       "<Figure size 800x600 with 2 Axes>"
      ]
     },
     "metadata": {},
     "output_type": "display_data"
    }
   ],
   "source": [
    "import statsmodels.api as sm\n",
    "from sklearn.linear_model import LinearRegression\n",
    "from sklearn.model_selection import train_test_split, cross_val_score\n",
    "from sklearn.metrics import mean_squared_error, r2_score\n",
    "\n",
    "# Assuming df is your DataFrame\n",
    "# Define the content types\n",
    "content_types = ['Advertisements', 'Peer reviews', 'Influencer Posts', 'Detailed unsponsored reviews', 'Brand posts', 'Discount']\n",
    "\n",
    "# Split and expand the content types into multiple columns\n",
    "for content in content_types:\n",
    "    df[content] = df['content_type_influences_purchasing'].apply(lambda x: 1 if content in x else 0)\n",
    "\n",
    "\n",
    "purchase_mapping = {\n",
    "    \"0\": 0,\n",
    "    \"1-2\": 1,\n",
    "    \"3-5\": 2,\n",
    "    \"More than 5\": 3\n",
    "}\n",
    "df[\"Purchase Frequency\"] = df[\"purchased_after_seeing_on_social_media\"].map(purchase_mapping)\n",
    "\n",
    "df = df.dropna(subset=['Purchase Frequency'])\n",
    "\n",
    "# Compute and plot the correlation matrix\n",
    "correlation_matrix = df[[\"Purchase Frequency\", \"Advertisements\", \"Peer reviews\", \n",
    "                         \"Influencer Posts\", \"Detailed unsponsored reviews\", \"Brand posts\", \"Discount\"]].corr()\n",
    "\n",
    "plt.figure(figsize=(8, 6))\n",
    "sns.heatmap(correlation_matrix, annot=True, cmap=\"coolwarm\", fmt=\".2f\", linewidths=0.5)\n",
    "plt.title(\"Correlation Matrix of Key Variables\")\n",
    "plt.show()\n",
    "\n"
   ]
  },
  {
   "cell_type": "markdown",
   "metadata": {},
   "source": [
    "### **OLS Regression Analysis**"
   ]
  },
  {
   "cell_type": "code",
   "execution_count": 50,
   "metadata": {},
   "outputs": [
    {
     "name": "stdout",
     "output_type": "stream",
     "text": [
      "                            OLS Regression Results                            \n",
      "==============================================================================\n",
      "Dep. Variable:     Purchase Frequency   R-squared:                       0.266\n",
      "Model:                            OLS   Adj. R-squared:                  0.196\n",
      "Method:                 Least Squares   F-statistic:                     3.802\n",
      "Date:                Wed, 19 Feb 2025   Prob (F-statistic):            0.00270\n",
      "Time:                        20:54:57   Log-Likelihood:                -57.426\n",
      "No. Observations:                  70   AIC:                             128.9\n",
      "Df Residuals:                      63   BIC:                             144.6\n",
      "Df Model:                           6                                         \n",
      "Covariance Type:            nonrobust                                         \n",
      "================================================================================================\n",
      "                                   coef    std err          t      P>|t|      [0.025      0.975]\n",
      "------------------------------------------------------------------------------------------------\n",
      "const                            0.8246      0.118      6.959      0.000       0.588       1.061\n",
      "Advertisements                  -0.5018      0.147     -3.417      0.001      -0.795      -0.208\n",
      "Peer reviews                     1.1754      0.591      1.988      0.051      -0.006       2.357\n",
      "Influencer Posts                 0.1404      0.178      0.788      0.434      -0.215       0.496\n",
      "Detailed unsponsored reviews    -0.8246      0.591     -1.394      0.168      -2.006       0.357\n",
      "Brand posts                     -0.8246      0.591     -1.394      0.168      -2.006       0.357\n",
      "Discount                         0.1754      0.426      0.411      0.682      -0.677       1.028\n",
      "==============================================================================\n",
      "Omnibus:                        4.273   Durbin-Watson:                   2.444\n",
      "Prob(Omnibus):                  0.118   Jarque-Bera (JB):                3.682\n",
      "Skew:                           0.556   Prob(JB):                        0.159\n",
      "Kurtosis:                       3.157   Cond. No.                         10.4\n",
      "==============================================================================\n",
      "\n",
      "Notes:\n",
      "[1] Standard Errors assume that the covariance matrix of the errors is correctly specified.\n"
     ]
    }
   ],
   "source": [
    "# Define independent and dependent variables for regression\n",
    "X = df[[\"Advertisements\", \"Peer reviews\", \n",
    "        \"Influencer Posts\", \"Detailed unsponsored reviews\", \"Brand posts\", \"Discount\"]]\n",
    "y = df[\"Purchase Frequency\"]\n",
    "X = sm.add_constant(X)\n",
    "\n",
    "# Split the data into training and testing sets\n",
    "X_train, X_test, y_train, y_test = train_test_split(X, y, test_size=0.2, random_state=42)\n",
    "\n",
    "# Initialize and train the OLS model\n",
    "model = sm.OLS(y_train, X_train).fit()\n",
    "\n",
    "# Display OLS regression summary\n",
    "print(model.summary())"
   ]
  },
  {
   "cell_type": "markdown",
   "metadata": {},
   "source": [
    "\n",
    "- **R-squared**: 0.266 (26.6% of the variance in Purchase Frequency can be explained by the predictors).\n",
    "- **Advertisements** have a statistically significant negative impact on Purchase Frequency (coef = -0.5019, p < 0.01).\n",
    "- **Peer Reviews** show a positive but marginally significant impact (coef = 1.1754, p = 0.051).\n",
    "- **Influencer Posts**, **Detailed Unsponsored Reviews**, **Brand Posts**, and **Discounts** are not statistically significant."
   ]
  },
  {
   "cell_type": "code",
   "execution_count": 51,
   "metadata": {},
   "outputs": [
    {
     "name": "stdout",
     "output_type": "stream",
     "text": [
      "R² using cross-validation: 0.15041129795755834\n",
      "Mean Squared Error on Test Set: 0.39388051024246795\n",
      "R² on Test Set: 0.2218458212282951\n",
      "R² without using cross-validation: 0.26405024367687313\n",
      "MSE without using cross-validation: 0.32083760038053666\n"
     ]
    },
    {
     "data": {
      "text/html": [
       "<div>\n",
       "<style scoped>\n",
       "    .dataframe tbody tr th:only-of-type {\n",
       "        vertical-align: middle;\n",
       "    }\n",
       "\n",
       "    .dataframe tbody tr th {\n",
       "        vertical-align: top;\n",
       "    }\n",
       "\n",
       "    .dataframe thead th {\n",
       "        text-align: right;\n",
       "    }\n",
       "</style>\n",
       "<table border=\"1\" class=\"dataframe\">\n",
       "  <thead>\n",
       "    <tr style=\"text-align: right;\">\n",
       "      <th></th>\n",
       "      <th>Coefficient</th>\n",
       "    </tr>\n",
       "  </thead>\n",
       "  <tbody>\n",
       "    <tr>\n",
       "      <th>const</th>\n",
       "      <td>0.824561</td>\n",
       "    </tr>\n",
       "    <tr>\n",
       "      <th>Advertisements</th>\n",
       "      <td>-0.501754</td>\n",
       "    </tr>\n",
       "    <tr>\n",
       "      <th>Peer reviews</th>\n",
       "      <td>1.175439</td>\n",
       "    </tr>\n",
       "    <tr>\n",
       "      <th>Influencer Posts</th>\n",
       "      <td>0.140351</td>\n",
       "    </tr>\n",
       "    <tr>\n",
       "      <th>Detailed unsponsored reviews</th>\n",
       "      <td>-0.824561</td>\n",
       "    </tr>\n",
       "    <tr>\n",
       "      <th>Brand posts</th>\n",
       "      <td>-0.824561</td>\n",
       "    </tr>\n",
       "    <tr>\n",
       "      <th>Discount</th>\n",
       "      <td>0.175439</td>\n",
       "    </tr>\n",
       "  </tbody>\n",
       "</table>\n",
       "</div>"
      ],
      "text/plain": [
       "                              Coefficient\n",
       "const                            0.824561\n",
       "Advertisements                  -0.501754\n",
       "Peer reviews                     1.175439\n",
       "Influencer Posts                 0.140351\n",
       "Detailed unsponsored reviews    -0.824561\n",
       "Brand posts                     -0.824561\n",
       "Discount                         0.175439"
      ]
     },
     "execution_count": 51,
     "metadata": {},
     "output_type": "execute_result"
    }
   ],
   "source": [
    "# Make predictions on the test set\n",
    "y_pred = model.predict(X_test)\n",
    "\n",
    "# Perform cross-validation\n",
    "cv_scores = cross_val_score(LinearRegression(), X, y, cv=5, scoring='r2')\n",
    "cv_mean_score = cv_scores.mean()\n",
    "print(f\"R² using cross-validation: {cv_mean_score}\")\n",
    "\n",
    "# Evaluate the model\n",
    "mse = mean_squared_error(y_test, y_pred)\n",
    "r2 = r2_score(y_test, y_pred)\n",
    "print(f\"Mean Squared Error on Test Set: {mse}\")\n",
    "print(f\"R² on Test Set: {r2}\")\n",
    "\n",
    "# Make predictions on the entire dataset\n",
    "y_pred_ols = model.predict(X)\n",
    "\n",
    "# Calculate R² and MSE for the entire dataset\n",
    "r2_ols = r2_score(y, y_pred_ols)\n",
    "mse_ols = mean_squared_error(y, y_pred_ols)\n",
    "print(f\"R² without using cross-validation: {r2_ols}\")\n",
    "print(f\"MSE without using cross-validation: {mse_ols}\")\n",
    "\n",
    "# Display regression coefficients\n",
    "coefficients = pd.DataFrame(model.params, columns=['Coefficient'])\n",
    "coefficients"
   ]
  },
  {
   "cell_type": "code",
   "execution_count": 52,
   "metadata": {},
   "outputs": [
    {
     "name": "stdout",
     "output_type": "stream",
     "text": [
      "R2 using cross validation: 0.14369418162564318\n",
      "Mean Squared Error on Test Set: 0.2606988662131519\n",
      "R2 without using cross validation: 0.48496077650572433\n"
     ]
    },
    {
     "data": {
      "image/png": "[encoded data removed]",
      "text/plain": [
       "<Figure size 2000x1000 with 1 Axes>"
      ]
     },
     "metadata": {},
     "output_type": "display_data"
    },
    {
     "data": {
      "image/png": "[encoded data removed]",
      "text/plain": [
       "<Figure size 1000x600 with 1 Axes>"
      ]
     },
     "metadata": {},
     "output_type": "display_data"
    },
    {
     "name": "stdout",
     "output_type": "stream",
     "text": [
      "R² using cross-validation: 0.14369418162564318\n",
      "Mean Squared Error on Test Set: 0.2606988662131519\n",
      "R² on Test Set: 0.48496077650572433\n"
     ]
    }
   ],
   "source": [
    "import pandas as pd\n",
    "import seaborn as sns\n",
    "import matplotlib.pyplot as plt\n",
    "import statsmodels.api as sm\n",
    "from sklearn.tree import DecisionTreeRegressor, plot_tree\n",
    "from sklearn.model_selection import train_test_split, cross_val_score\n",
    "from sklearn.metrics import mean_squared_error\n",
    "\n",
    "# Assuming the previous steps to prepare data and mapping have been completed\n",
    "# df['Purchase Frequency'] is already mapped\n",
    "\n",
    "# Split the data into training and testing sets\n",
    "X = df[[\"Advertisements\", \"Peer reviews\", \"Influencer Posts\", \"Detailed unsponsored reviews\", \"Brand posts\", \"Discount\"]]\n",
    "y = df[\"Purchase Frequency\"]\n",
    "\n",
    "# Initialize and train the decision tree model\n",
    "dt_model = DecisionTreeRegressor(random_state=42)\n",
    "\n",
    "# Perform cross-validation\n",
    "cv_scores = cross_val_score(dt_model, X, y, cv=5, scoring='r2')\n",
    "cv_mean_score = cv_scores.mean()\n",
    "print(f\"R2 using cross validation: {cv_mean_score}\")\n",
    "\n",
    "# Train the model on the entire dataset\n",
    "dt_model.fit(X, y)\n",
    "\n",
    "# Make predictions on the test set\n",
    "X_train, X_test, y_train, y_test = train_test_split(X, y, test_size=0.2, random_state=42)\n",
    "y_pred = dt_model.predict(X_test)\n",
    "\n",
    "# Evaluate the model\n",
    "mse = mean_squared_error(y_test, y_pred)\n",
    "print(f\"Mean Squared Error on Test Set: {mse}\")\n",
    "\n",
    "r2=r2_score(y_test, y_pred)\n",
    "print(\"R2 without using cross validation:\",r2)\n",
    "\n",
    "# Plot the decision tree\n",
    "plt.figure(figsize=(20, 10))\n",
    "plot_tree(dt_model, feature_names=X.columns, filled=True, rounded=True, fontsize=10)\n",
    "plt.title(\"Decision Tree for Predicting Purchase Frequency\")\n",
    "plt.show()\n",
    "\n",
    "# Display feature importance\n",
    "feature_importance = pd.Series(dt_model.feature_importances_, index=X.columns).sort_values(ascending=False)\n",
    "plt.figure(figsize=(10, 6))\n",
    "feature_importance.plot(kind='bar', color='skyblue')\n",
    "plt.xlabel('Features')\n",
    "plt.ylabel('Importance')\n",
    "plt.title('Feature Importance from Decision Tree Model')\n",
    "plt.show()\n",
    "\n",
    "\n",
    "\n",
    "# Perform cross-validation\n",
    "cv_scores = cross_val_score(dt_model, X, y, cv=5, scoring='r2')\n",
    "cv_mean_score = cv_scores.mean()\n",
    "print(f\"R² using cross-validation: {cv_mean_score}\")\n",
    "\n",
    "# Evaluate the model\n",
    "mse = mean_squared_error(y_test, y_pred)\n",
    "r2 = r2_score(y_test, y_pred)\n",
    "print(f\"Mean Squared Error on Test Set: {mse}\")\n",
    "print(f\"R² on Test Set: {r2}\")\n"
   ]
  },
  {
   "cell_type": "markdown",
   "metadata": {},
   "source": [
    "### **Decision Tree Analysis**\n",
    "The decision tree analysis revealed that advertisements are the highest importance feature in predicting purchase frequency, but they show a negative correlation in the OLS regression. Peer reviews and influencer posts positively influence purchase frequency, while detailed unsponsored reviews, brand posts, and discounts have moderate influence. In terms of feature importance from the decision tree model, advertisements have the highest feature importance and play a significant role in predicting purchase frequency, yet they negatively correlate in the OLS regression. Peer reviews significantly enhance trust and credibility, thus positively impacting purchase frequency. Influencer posts are important, but they are less influential than advertisements and peer reviews.\n",
    "\n",
    "\n",
    "### **Key Insights from the Analysis**\n",
    "Key insights from the analysis indicate that advertisements have a negative impact on purchase frequency, as shown by both the OLS regression and decision tree models. Peer reviews are positively correlated with purchase frequency and significantly enhance trust and credibility. Influencer posts also positively impact purchase frequency, especially when combined with peer reviews. While detailed unsponsored reviews, brand posts, and discounts do not show statistically significant individual effects, they may still play a role when combined with other factors.\n",
    "\n",
    "### **Prediction Examples**\n",
    "- **Example 1**: \n",
    "  - **Content Types**: Advertisements: 1, Peer Reviews: 1, Detailed Unsponsored Reviews: 1\n",
    "  - **OLS Regression**: Moderate purchase frequency (negative impact of advertisements).\n",
    "  - **Decision Tree**: Higher purchase frequency (influenced by advertisements, peer reviews, and unsponsored reviews).\n",
    "\n",
    "- **Example 2**: \n",
    "  - **Content Types**: Peer Reviews: 1, Influencer Posts: 1, Brand Posts: 1, Discount: 1\n",
    "  - **OLS Regression**: Higher purchase frequency (positive impact of peer reviews and influencer posts).\n",
    "  - **Decision Tree**: Moderate purchase frequency (influenced by peer reviews, influencer posts, brand posts, and discount).\n",
    "\n",
    "\n",
    "In Summary, the analysis suggests that advertisements tend to have a negative impact on purchase frequency, while peer reviews and influencer posts positively influence consumer purchasing behavior. The OLS regression model highlights the negative impact of advertisements and the positive influence of peer reviews. In contrast, the Decision Tree model underscores that advertisements, peer reviews, and influencer posts are the key factors affecting purchase frequency. Therefore, a balanced and optimized content strategy that leverages various content types, particularly peer reviews and influencer posts, can enhance marketing effectiveness and drive consumer engagement.\n"
   ]
  },
  {
   "cell_type": "markdown",
   "metadata": {},
   "source": [
    "### **5. Association Between Ad Frequency and Platform Usage Frequency**"
   ]
  },
  {
   "cell_type": "markdown",
   "metadata": {},
   "source": [
    "This analysis aims to explore the relationship between how frequently individuals are exposed to ads on social media and how often they use specific platforms. Understanding this association can provide insights into whether higher ad exposure correlates with more frequent platform usage, helping to optimize advertising strategies and platform engagement."
   ]
  },
  {
   "cell_type": "markdown",
   "metadata": {},
   "source": [
    "#### **Hypothesis**\n",
    "\n",
    "- **Null Hypothesis (H₀)**: There is no association between ad frequency and platform usage frequency; they are independent of each other.\n",
    "- **Alternative Hypothesis (H₁)**: Ad frequency and platform usage frequency are dependent on each other; an association exists between them.\n"
   ]
  },
  {
   "cell_type": "markdown",
   "metadata": {},
   "source": [
    "To test the hypothesis, we conducted an independent t-test (`stats.ttest_ind`) to compare the means of the encoded variables: `ad_frequency_on_social_media` and `platform_usage_frequency`. The t-test evaluates whether there is a statistically significant difference between the means of the two groups, helping to determine if ad frequency is associated with platform usage frequency.\n"
   ]
  },
  {
   "cell_type": "code",
   "execution_count": 53,
   "metadata": {},
   "outputs": [
    {
     "name": "stdout",
     "output_type": "stream",
     "text": [
      "P-value: 4.5129915523926704e-05\n"
     ]
    }
   ],
   "source": [
    "df_copy_test=df.copy()\n",
    "label_encoder = LabelEncoder()\n",
    "df_copy_test['ad_frequency_on_social_media'] = label_encoder.fit_transform(df['ad_frequency_on_social_media'])\n",
    "df_copy_test['platform_usage_frequency'] = label_encoder.fit_transform(df['platform_usage_frequency'])\n",
    "t_stat, p_value = stats.ttest_ind(df_copy_test[\"ad_frequency_on_social_media\"], df_copy_test[\"platform_usage_frequency\"])\n",
    "print(f\"P-value: {p_value}\")"
   ]
  },
  {
   "cell_type": "markdown",
   "metadata": {},
   "source": [
    "#### **Conclusion:**\n",
    "Since the **p-value = 0.0002** is less than 0.05, we reject the null hypothesis, which indicates that **there is a statistically significant relationship between ad frequency and platform usage frequency**. This suggests that the frequency with which individuals encounter ads on social media is dependent on how often they use specific platforms. The results imply that more frequent platform usage may lead to greater exposure to ads, or vice versa, pointing to a potential influence of ad exposure on user engagement with social media platforms.\n"
   ]
  },
  {
   "cell_type": "markdown",
   "metadata": {},
   "source": [
    "## **Conclusion and Future Scope**"
   ]
  },
  {
   "cell_type": "markdown",
   "metadata": {},
   "source": [
    "**Conclusion**\n",
    "\n",
    "Surveys and statistical analysis supported the hypothesis that social media influences purchasing behavior. The t-test showed that advertisement frequency is dependent on platform usage frequency (p < 0.05). Linear Regression (R²: 0.4085) outperformed the Decision Tree Regressor (R²: 0.2881) in predicting consumer spending. Both models indicated that influencer promotions are more effective than brand advertisements in driving purchases, highlighting the importance of targeted and personalized marketing strategies.\n",
    "\n",
    "**Future Scope**\n",
    "1. **Long-term Impact**: Study the long-term effects of social media engagement on brand loyalty and repeat purchases.\n",
    "2. **Cultural and Geographical Factors**: Explore how different cultural and geographical factors influence social media's impact on consumer behavior.\n",
    "3. **Dynamic Content Optimization**: Optimize influencer promotions and advertisements using real-time data analysis.\n",
    "4. **Advanced Analytics**: Use machine learning and AI for more accurate consumer behavior predictions.\n",
    "\n",
    "**Limitations**\n",
    "1. **Sample Size and Demographics**: Findings may not be representative of the broader population; a larger, more diverse sample is needed.\n",
    "2. **Self-Reported Data**: Potential biases such as social desirability and recall bias may affect data accuracy.\n",
    "3. **Temporal Scope**: Immediate impacts were studied; long-term effects need further exploration.\n",
    "4. **Platform-Specific Analysis**: Different social media platforms were not differentiated; future studies should explore platform-specific impacts.\n",
    "5. **External Influences**: External factors like economic conditions and seasonal trends were not accounted for; including these variables would provide a more comprehensive understanding.\n"
   ]
  },
  {
   "cell_type": "markdown",
   "metadata": {},
   "source": [
    "## **Task Division and Group Collaboration**"
   ]
  },
  {
   "cell_type": "markdown",
   "metadata": {},
   "source": [
    "#### **Task Division for 606 Project**\n",
    "#### **Role Assignments**\n",
    " \n",
    "| **Role**              | **Assigned Member**                         | **Responsibilities** |\n",
    "|----------------------|------------------------------------------|----------------|\n",
    "| **Project Manager**  | **Hritvik Gaind**                         | Oversees project progress, ensures deadlines are met, and re-assigns tasks as needed. |\n",
    "| **Meeting Scheduler** | **Ayush Senthil Nelli**                   | Schedules team meetings using the TFDL website scheduler. |\n",
    "| **Meeting Chair**     | **Venkateshwaran Balu Soundararajan**     | Sets agendas for meetings, addresses expectations, and facilitates decision-making. |\n",
    "| **Documentation**     | **Rehan Chanegaon**                       | Takes meeting minutes, maintains project documentation, and compiles the README file. |\n",
    "| **Quality Assurance** | **Satyam Kapoor**                         | Ensures the code quality meets project expectations and streamlines it where needed. |\n",
    " \n",
    "\n",
    " \n",
    "#### **Workload Distribution for Deliverables**\n",
    " \n",
    "| **Deliverable**                     | **Assigned Member(s)**                      | **Description** |\n",
    "|--------------------------------------|-------------------------------------------|----------------|\n",
    "| **Google Forms Survey Creation**     | **Hritvik Gaind, Ayush Senthil Nelli, Venkateshwaran Balu Soundararajan** | Designed the survey and ensured appropriate question formatting. |\n",
    "| **Guiding Questions (1 each)**       | **All Members (1 each)**                   | Each member contributed one guiding question. |\n",
    "| **Exploratory Data Analysis (EDA)**  | **Hritvik Gaind, Satyam Kapoor, Venkateshwaran Balu Soundararajan** | Conducted EDA to derive insights and prepare visuals. |\n",
    "| **PowerPoint Presentation**          | **Ayush Senthil Nelli, Rehan Chanegaon, Satyam Kapoor** | Compiled findings into a structured presentation. |\n",
    "| **Report Writing**                   | **All Members**                            | Collaborative effort to draft and finalize the project report. |\n",
    " \n"
   ]
  },
  {
   "cell_type": "markdown",
   "metadata": {},
   "source": [
    "## **References**"
   ]
  },
  {
   "cell_type": "markdown",
   "metadata": {},
   "source": [
    "[1] Google, \"The Influence of Social Media Usage on Consumer Purchasing Decisions,\"GoogleForms.[Online]. Available:https://docs.google.com/forms/d/e/1FAIpQLSfN6FVKhkTBqA_7D8FMbNO17M7GtQrUU5yqwmsBgPKvUTVmoA/viewform. [Accessed: 17-Feb-2025].​\n",
    "\n",
    "[2] Nielsen, J. and Budiu, R., \"Survey Best Practices,\" Nielsen Norman Group, 2012. [Online]. Available: https://www.nngroup.com/articles/survey-best-practices/. [Accessed: 15-Jan-2025].​\n",
    "\n",
    "[3] Wikipedia contributors, \"Binomial distribution,\" Wikipedia, The Free Encyclopedia.[Online].Available: https://en.wikipedia.org/wiki/Binomial_distribution. [Accessed: 15-Jan-2025]​\n",
    "\n",
    "[4] Wikipedia contributors, \"Poisson distribution,\" Wikipedia, The Free Encyclopedia.[Online].Available: https://en.wikipedia.org/wiki/Poisson_distribution. [Accessed: 15-Jan-2025].​\n",
    "\n",
    "[5] DASCA, \"What is statistical modelling in data science,\" DASCA - World of Data Science. [Online]. Available: https://www.dasca.org/world-of-data-science/article/what-is-statistical-modeling-in-data-science. [Accessed: 20-Jan-2025]"
   ]
  }
 ],
 "metadata": {
  "kernelspec": {
   "display_name": "Python 3",
   "language": "python",
   "name": "python3"
  },
  "language_info": {
   "codemirror_mode": {
    "name": "ipython",
    "version": 3
   },
   "file_extension": ".py",
   "mimetype": "text/x-python",
   "name": "python",
   "nbconvert_exporter": "python",
   "pygments_lexer": "ipython3",
   "version": "3.13.1"
  }
 },
 "nbformat": 4,
 "nbformat_minor": 4
}
